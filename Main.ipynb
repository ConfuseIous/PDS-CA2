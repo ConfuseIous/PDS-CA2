{
 "cells": [
  {
   "cell_type": "markdown",
   "metadata": {},
   "source": [
    "## Comparing Long Term Investment Strategies\n",
    "### Karandeep Singh"
   ]
  },
  {
   "cell_type": "markdown",
   "metadata": {},
   "source": [
    "Investments are critical to long term financial security. Through the power of compound interest, investors can grow their wealth over time. However, there are many different investment strategies that can be used to grow wealth.\n",
    "\n",
    "In this analysis, we will compare the benefits of investing in:\n",
    "- Cryptocurrency\n",
    "- Equities in the Largest Economy (US)\n",
    "- Local Equities (Singapore)\n",
    "- Emerging Market Equities (India)\n",
    "- Safe Assets (Gold)\n",
    "- Low Risk Assets (US Treasury Bonds)\n",
    "- Professional Management (Mutual Funds)\n",
    "\n",
    "**The goal of this analysis is to determine which investment strategies are the most effective in growing wealth over time.**\n",
    "\n",
    "Insights I hope to gain from this analysis include:\n",
    "\n",
    "1. What benefits does investing offer, compared to holding cash?\n",
    "2. Does compounding interest really make a difference?\n",
    "3. Which investment vehicles are the most effective in growing wealth over time?\n",
    "4. Which investment vehicles offer the best risk-adjusted returns?\n",
    "5. Which investment vehicles are the most volatile?\n",
    "6. Are developing countries likely to outperform developed countries in the long run?"
   ]
  }
 ],
 "metadata": {
  "language_info": {
   "name": "python"
  },
  "orig_nbformat": 4
 },
 "nbformat": 4,
 "nbformat_minor": 2
}
