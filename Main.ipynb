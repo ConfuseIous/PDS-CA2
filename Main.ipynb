{
 "cells": [
  {
   "cell_type": "markdown",
   "metadata": {},
   "source": [
    "## Comparing Long Term Investment Strategies\n",
    "### Karandeep Singh"
   ]
  },
  {
   "cell_type": "markdown",
   "metadata": {},
   "source": [
    "Investments are critical to long term financial security. Through the power of compound interest, investors can grow their wealth over time. However, there are many different investment strategies that can be used to grow wealth.\n",
    "\n",
    "In this analysis, we will compare the benefits of investing in:\n",
    "- Equities in the Largest Economy (US)\n",
    "- Local Equities (Singapore)\n",
    "- Emerging Market Equities (India)\n",
    "- Safe Assets (Gold)\n",
    "- Low Risk Assets (US Treasury Bonds)\n",
    "- Professional Management (Mutual Funds)\n",
    "\n",
    "**The goal of this analysis is to determine which investment strategies are the most effective in growing wealth over time.**\n",
    "\n",
    "Insights I hope to gain from this analysis include:\n",
    "\n",
    "1. What benefits does investing offer, compared to holding cash?\n",
    "2. Which investment vehicles are the most effective in growing wealth over time?\n",
    "3. Which investment vehicles are the most volatile?\n",
    "4. Which investment vehicles offer the best risk-adjusted returns?\n",
    "5. Are developing countries likely to outperform developed countries in the long run?\n",
    "6. Does GDP growth translate to stock market growth?\n",
    "\n",
    "This analysis makes use of the following datasets:\n",
    "- [SPDR S&P 500 ETF Trust (SPY) Historical Prices](https://finance.yahoo.com/quote/SPY/history?period1=1659308442&period2=1690844442&interval=1mo&filter=history&frequency=1mo&includeAdjustedClose=true)\n",
    "- [Bitcoin USD (BTC-USD) Historical Prices](https://finance.yahoo.com/quote/BTC-USD/history?period1=1659322815&period2=1690858815&interval=1mo&filter=history&frequency=1mo&includeAdjustedClose=true)\n",
    "- [FTSE Straits Times Index STI Historical Prices](https://www.wsj.com/market-data/quotes/index/SG/STI/historical-prices)\n",
    "- [NIFTY Indices Dataset](https://www.kaggle.com/datasets/sudalairajkumar/nifty-indices-dataset)\n",
    "- [Gold Spot Prices](https://www.gold.org/goldhub/data/gold-prices)\n",
    "- [U.S. Department of the Treasury - Interest Rates Data CSV Archive](https://home.treasury.gov/interest-rates-data-csv-archive)\n",
    "- [Fidelity Growth Company Fund Historical Quotes](https://www.marketwatch.com/investing/fund/fdgrx/download-data)\n",
    "- [Singapore Department of Statistics - Consumer Price Index (CPI), 2019 As Base Year](https://tablebuilder.singstat.gov.sg/table/TS/M212881)\n",
    "- [U.S. Bureau of Labor Statistics - Consumer Price Index for All Urban Consumers](https://www.bls.gov/cpi/tables/supplemental-files/)\n",
    "- [Singapore Dollars to U.S. Dollar Spot Exchange Rate](https://fred.stlouisfed.org/series/DEXSIUS)\n",
    "- [Indian Rupees to U.S. Dollar Spot Exchange Rate](https://fred.stlouisfed.org/series/EXINUS)"
   ]
  },
  {
   "cell_type": "code",
   "execution_count": 1,
   "metadata": {},
   "outputs": [],
   "source": [
    "# Importing required libraries\n",
    "import os\n",
    "import pandas as pd\n",
    "import numpy as np\n",
    "import seaborn as sns\n",
    "import matplotlib.pyplot as plt\n",
    "import matplotlib.ticker as ticker\n",
    "from matplotlib.ticker import FuncFormatter"
   ]
  },
  {
   "cell_type": "markdown",
   "metadata": {},
   "source": [
    "### Loading and Preprocessing the Datasets"
   ]
  },
  {
   "cell_type": "code",
   "execution_count": 2,
   "metadata": {},
   "outputs": [],
   "source": [
    "class ParsedDataFrames:\n",
    "    spy_data = None\n",
    "    btc_data = None\n",
    "    sti_data = None\n",
    "    nifty_data = None\n",
    "    gold_data = None\n",
    "    bond_data = None\n",
    "    mf_data = None\n",
    "    sg_cpi_data = None\n",
    "    us_cpi_data = None\n",
    "\n",
    "data = ParsedDataFrames()"
   ]
  },
  {
   "cell_type": "markdown",
   "metadata": {},
   "source": [
    "Later, we'll be using data in United States Dollars, Singapore Dollars and Indian Rupees.\n",
    "\n",
    "The ***Singapore Dollars to U.S. Dollar Spot Exchange Rate*** and ***Indian Rupees to U.S. Dollar Spot Exchange Rate*** datasets allow us to compare this data correctly. They contain the exchange rates for USDSGD and USDINR respectively.\n",
    "\n",
    "The USDINR dataset, however, does not contain values for every single day, and we thus need to forward fill them ourselves."
   ]
  },
  {
   "cell_type": "code",
   "execution_count": 3,
   "metadata": {},
   "outputs": [
    {
     "data": {
      "text/html": [
       "<div>\n",
       "<style scoped>\n",
       "    .dataframe tbody tr th:only-of-type {\n",
       "        vertical-align: middle;\n",
       "    }\n",
       "\n",
       "    .dataframe tbody tr th {\n",
       "        vertical-align: top;\n",
       "    }\n",
       "\n",
       "    .dataframe thead th {\n",
       "        text-align: right;\n",
       "    }\n",
       "</style>\n",
       "<table border=\"1\" class=\"dataframe\">\n",
       "  <thead>\n",
       "    <tr style=\"text-align: right;\">\n",
       "      <th></th>\n",
       "      <th>Date</th>\n",
       "      <th>Close</th>\n",
       "    </tr>\n",
       "  </thead>\n",
       "  <tbody>\n",
       "    <tr>\n",
       "      <th>11101</th>\n",
       "      <td>2023-07-24</td>\n",
       "      <td>1.3300</td>\n",
       "    </tr>\n",
       "    <tr>\n",
       "      <th>11102</th>\n",
       "      <td>2023-07-25</td>\n",
       "      <td>1.3277</td>\n",
       "    </tr>\n",
       "    <tr>\n",
       "      <th>11103</th>\n",
       "      <td>2023-07-26</td>\n",
       "      <td>1.3266</td>\n",
       "    </tr>\n",
       "    <tr>\n",
       "      <th>11104</th>\n",
       "      <td>2023-07-27</td>\n",
       "      <td>1.3293</td>\n",
       "    </tr>\n",
       "    <tr>\n",
       "      <th>11105</th>\n",
       "      <td>2023-07-28</td>\n",
       "      <td>1.3305</td>\n",
       "    </tr>\n",
       "  </tbody>\n",
       "</table>\n",
       "</div>"
      ],
      "text/plain": [
       "            Date   Close\n",
       "11101 2023-07-24  1.3300\n",
       "11102 2023-07-25  1.3277\n",
       "11103 2023-07-26  1.3266\n",
       "11104 2023-07-27  1.3293\n",
       "11105 2023-07-28  1.3305"
      ]
     },
     "execution_count": 3,
     "metadata": {},
     "output_type": "execute_result"
    }
   ],
   "source": [
    "usd_sgd = pd.read_csv('data/DEXSIUS.csv')\n",
    "usd_sgd.columns = ['Date', 'Close']\n",
    "\n",
    "# Some values of Close are \".\", so we need to convert them to NaN to be forward filled\n",
    "usd_sgd['Close'] = usd_sgd['Close'].replace('.', np.nan)\n",
    "usd_sgd['Close'] = usd_sgd['Close'].fillna(method='ffill') # Forward fill the NaN values\n",
    "usd_sgd['Close'] = usd_sgd['Close'].astype(float) # Convert Close to float\n",
    "usd_sgd['Date'] = pd.to_datetime(usd_sgd['Date']) # Convert Date to datetime\n",
    "\n",
    "usd_sgd.tail()"
   ]
  },
  {
   "cell_type": "code",
   "execution_count": 4,
   "metadata": {},
   "outputs": [
    {
     "data": {
      "text/html": [
       "<div>\n",
       "<style scoped>\n",
       "    .dataframe tbody tr th:only-of-type {\n",
       "        vertical-align: middle;\n",
       "    }\n",
       "\n",
       "    .dataframe tbody tr th {\n",
       "        vertical-align: top;\n",
       "    }\n",
       "\n",
       "    .dataframe thead th {\n",
       "        text-align: right;\n",
       "    }\n",
       "</style>\n",
       "<table border=\"1\" class=\"dataframe\">\n",
       "  <thead>\n",
       "    <tr style=\"text-align: right;\">\n",
       "      <th></th>\n",
       "      <th>Date</th>\n",
       "      <th>Close</th>\n",
       "    </tr>\n",
       "  </thead>\n",
       "  <tbody>\n",
       "    <tr>\n",
       "      <th>18409</th>\n",
       "      <td>2023-05-28</td>\n",
       "      <td>82.2977</td>\n",
       "    </tr>\n",
       "    <tr>\n",
       "      <th>18410</th>\n",
       "      <td>2023-05-29</td>\n",
       "      <td>82.2977</td>\n",
       "    </tr>\n",
       "    <tr>\n",
       "      <th>18411</th>\n",
       "      <td>2023-05-30</td>\n",
       "      <td>82.2977</td>\n",
       "    </tr>\n",
       "    <tr>\n",
       "      <th>18412</th>\n",
       "      <td>2023-05-31</td>\n",
       "      <td>82.2977</td>\n",
       "    </tr>\n",
       "    <tr>\n",
       "      <th>18413</th>\n",
       "      <td>2023-06-01</td>\n",
       "      <td>82.2252</td>\n",
       "    </tr>\n",
       "  </tbody>\n",
       "</table>\n",
       "</div>"
      ],
      "text/plain": [
       "            Date    Close\n",
       "18409 2023-05-28  82.2977\n",
       "18410 2023-05-29  82.2977\n",
       "18411 2023-05-30  82.2977\n",
       "18412 2023-05-31  82.2977\n",
       "18413 2023-06-01  82.2252"
      ]
     },
     "execution_count": 4,
     "metadata": {},
     "output_type": "execute_result"
    }
   ],
   "source": [
    "usd_inr = pd.read_csv('data/EXINUS.csv', parse_dates=True)\n",
    "usd_inr.columns = ['Date', 'Close']\n",
    "usd_inr['Close'] = usd_inr['Close'].astype(float)\n",
    "\n",
    "# Create a row for each day\n",
    "usd_inr['Date'] = pd.to_datetime(usd_inr['Date'])\n",
    "usd_inr = usd_inr.resample('D', on='Date').mean()\n",
    "usd_inr = usd_inr.fillna(method='ffill')\n",
    "usd_inr = usd_inr.reset_index()\n",
    "\n",
    "usd_inr.tail()"
   ]
  },
  {
   "cell_type": "markdown",
   "metadata": {},
   "source": [
    "The ***SPDR S&P 500 ETF Trust (SPY) Historical Prices*** dataset contains the historical prices of the SPY ETF. This is a fund that tracks the performance of the 500 largest companies in the USA. It is the most commonly used proxy for the entire US stock market.\n",
    "\n",
    "We can discard all columns apart from the date and the adjusted close, which is the price of the ETF at the end of each trading day and adjusted for dividends and stock splits. A stock split is a process where a single share is split into multiple shares, which reduces the price of each share and can cause our data to be incorrect unless we adjust for it."
   ]
  },
  {
   "cell_type": "code",
   "execution_count": 5,
   "metadata": {},
   "outputs": [
    {
     "data": {
      "text/html": [
       "<div>\n",
       "<style scoped>\n",
       "    .dataframe tbody tr th:only-of-type {\n",
       "        vertical-align: middle;\n",
       "    }\n",
       "\n",
       "    .dataframe tbody tr th {\n",
       "        vertical-align: top;\n",
       "    }\n",
       "\n",
       "    .dataframe thead th {\n",
       "        text-align: right;\n",
       "    }\n",
       "</style>\n",
       "<table border=\"1\" class=\"dataframe\">\n",
       "  <thead>\n",
       "    <tr style=\"text-align: right;\">\n",
       "      <th></th>\n",
       "      <th>Date</th>\n",
       "      <th>SPY</th>\n",
       "    </tr>\n",
       "  </thead>\n",
       "  <tbody>\n",
       "    <tr>\n",
       "      <th>0</th>\n",
       "      <td>1993-01-29</td>\n",
       "      <td>25.029373</td>\n",
       "    </tr>\n",
       "    <tr>\n",
       "      <th>1</th>\n",
       "      <td>1993-02-01</td>\n",
       "      <td>25.207396</td>\n",
       "    </tr>\n",
       "    <tr>\n",
       "      <th>2</th>\n",
       "      <td>1993-02-02</td>\n",
       "      <td>25.260807</td>\n",
       "    </tr>\n",
       "    <tr>\n",
       "      <th>3</th>\n",
       "      <td>1993-02-03</td>\n",
       "      <td>25.527821</td>\n",
       "    </tr>\n",
       "    <tr>\n",
       "      <th>4</th>\n",
       "      <td>1993-02-04</td>\n",
       "      <td>25.634634</td>\n",
       "    </tr>\n",
       "  </tbody>\n",
       "</table>\n",
       "</div>"
      ],
      "text/plain": [
       "        Date        SPY\n",
       "0 1993-01-29  25.029373\n",
       "1 1993-02-01  25.207396\n",
       "2 1993-02-02  25.260807\n",
       "3 1993-02-03  25.527821\n",
       "4 1993-02-04  25.634634"
      ]
     },
     "execution_count": 5,
     "metadata": {},
     "output_type": "execute_result"
    }
   ],
   "source": [
    "spy_data = pd.read_csv('data/SPY.csv')\n",
    "spy_data = spy_data[['Date', 'Adj Close']]\n",
    "spy_data.columns = ['Date', 'SPY']\n",
    "\n",
    "# Date is formatted as yyyy-mm-dd, convert to datetime\n",
    "spy_data['Date'] = pd.to_datetime(spy_data['Date'])\n",
    "\n",
    "data.spy_data = spy_data\n",
    "data.spy_data.head()"
   ]
  },
  {
   "cell_type": "markdown",
   "metadata": {},
   "source": [
    "The ***FTSE Straits Times Index STI Historical Prices*** dataset contains the historical prices of the Straits Times Index (STI) from 2000 to 2019. Like SPY, STI is an index that can be used as a proxy for the Singapore stock market. It tracks the 30 largest companies listed on the Singapore Exchange (SGX).\n",
    "\n",
    "STI has never had a stock split, so the price data does not need to be adjusted. However, we need to convert it to USD for a fair comparison with the other datasets."
   ]
  },
  {
   "cell_type": "code",
   "execution_count": 6,
   "metadata": {},
   "outputs": [
    {
     "data": {
      "text/html": [
       "<div>\n",
       "<style scoped>\n",
       "    .dataframe tbody tr th:only-of-type {\n",
       "        vertical-align: middle;\n",
       "    }\n",
       "\n",
       "    .dataframe tbody tr th {\n",
       "        vertical-align: top;\n",
       "    }\n",
       "\n",
       "    .dataframe thead th {\n",
       "        text-align: right;\n",
       "    }\n",
       "</style>\n",
       "<table border=\"1\" class=\"dataframe\">\n",
       "  <thead>\n",
       "    <tr style=\"text-align: right;\">\n",
       "      <th></th>\n",
       "      <th>Date</th>\n",
       "      <th>STI</th>\n",
       "    </tr>\n",
       "  </thead>\n",
       "  <tbody>\n",
       "    <tr>\n",
       "      <th>0</th>\n",
       "      <td>2023-07-31</td>\n",
       "      <td>1612.030578</td>\n",
       "    </tr>\n",
       "    <tr>\n",
       "      <th>1</th>\n",
       "      <td>2023-07-28</td>\n",
       "      <td>1619.975973</td>\n",
       "    </tr>\n",
       "    <tr>\n",
       "      <th>2</th>\n",
       "      <td>2023-07-27</td>\n",
       "      <td>1604.528846</td>\n",
       "    </tr>\n",
       "    <tr>\n",
       "      <th>3</th>\n",
       "      <td>2023-07-26</td>\n",
       "      <td>1588.923077</td>\n",
       "    </tr>\n",
       "    <tr>\n",
       "      <th>4</th>\n",
       "      <td>2023-07-25</td>\n",
       "      <td>1578.746097</td>\n",
       "    </tr>\n",
       "  </tbody>\n",
       "</table>\n",
       "</div>"
      ],
      "text/plain": [
       "        Date          STI\n",
       "0 2023-07-31  1612.030578\n",
       "1 2023-07-28  1619.975973\n",
       "2 2023-07-27  1604.528846\n",
       "3 2023-07-26  1588.923077\n",
       "4 2023-07-25  1578.746097"
      ]
     },
     "execution_count": 6,
     "metadata": {},
     "output_type": "execute_result"
    }
   ],
   "source": [
    "sti_data = pd.read_csv('data/STI.csv')\n",
    "sti_data = sti_data[['Date', ' Close']]\n",
    "sti_data.columns = ['Date', 'STI']\n",
    "\n",
    "# Date is formatted as mm/dd/yy, convert to datetime\n",
    "sti_data['Date'] = pd.to_datetime(sti_data['Date'], format='%m/%d/%y')\n",
    "\n",
    "# Convert to USD\n",
    "sti_data['STI'] = sti_data['STI'] / usd_sgd['Close']\n",
    "\n",
    "data.sti_data = sti_data\n",
    "data.sti_data.head()"
   ]
  },
  {
   "cell_type": "markdown",
   "metadata": {},
   "source": [
    "The ***NIFTY50*** is the flagship index on the National Stock Exchange of India Ltd. (NSE). It includes 50 of India's top companies and is a good proxy for the Indian stock market. We use the Indian stock market as our benchmark for emerging markets because of its size, liquidity, and ease of access for foreign investors.\n",
    "\n",
    "While China's equity market is larger, foreign investors are not allowed to own Chinese stocks and instead invest in them through a special corporate structure called a variable interest entity (VIE). This is legally a grey area and investors have no ownership rights in the underlying companies. As a result, we do not consider China's equity market as a viable benchmark for emerging markets for this analysis, although some investors may choose to take a different view. For more on this topic, see [this article from CNN Business](https://edition.cnn.com/2021/08/08/investing/stocks-week-ahead/index.html).\n",
    "\n",
    "This analysis uses two separate datasets for NIFTY50. This is because the first dataset only contains values from 2000-2020, while the second only contains values from 2007-2023. We need to add the rows from the second dataset to the first to create a dataset with values from 2000-2023.\n",
    "\n",
    "The prices need to be converted to USD for a fair comparison with the other datasets."
   ]
  },
  {
   "cell_type": "code",
   "execution_count": 7,
   "metadata": {},
   "outputs": [
    {
     "data": {
      "text/html": [
       "<div>\n",
       "<style scoped>\n",
       "    .dataframe tbody tr th:only-of-type {\n",
       "        vertical-align: middle;\n",
       "    }\n",
       "\n",
       "    .dataframe tbody tr th {\n",
       "        vertical-align: top;\n",
       "    }\n",
       "\n",
       "    .dataframe thead th {\n",
       "        text-align: right;\n",
       "    }\n",
       "</style>\n",
       "<table border=\"1\" class=\"dataframe\">\n",
       "  <thead>\n",
       "    <tr style=\"text-align: right;\">\n",
       "      <th></th>\n",
       "      <th>Date</th>\n",
       "      <th>NIFTY</th>\n",
       "    </tr>\n",
       "  </thead>\n",
       "  <tbody>\n",
       "    <tr>\n",
       "      <th>5863</th>\n",
       "      <td>2023-07-28</td>\n",
       "      <td>1301.709510</td>\n",
       "    </tr>\n",
       "    <tr>\n",
       "      <th>5864</th>\n",
       "      <td>2023-07-31</td>\n",
       "      <td>1308.848818</td>\n",
       "    </tr>\n",
       "    <tr>\n",
       "      <th>5865</th>\n",
       "      <td>2023-08-01</td>\n",
       "      <td>1307.507092</td>\n",
       "    </tr>\n",
       "    <tr>\n",
       "      <th>5866</th>\n",
       "      <td>2023-08-02</td>\n",
       "      <td>1293.791670</td>\n",
       "    </tr>\n",
       "    <tr>\n",
       "      <th>5867</th>\n",
       "      <td>2023-08-03</td>\n",
       "      <td>1284.190849</td>\n",
       "    </tr>\n",
       "  </tbody>\n",
       "</table>\n",
       "</div>"
      ],
      "text/plain": [
       "           Date        NIFTY\n",
       "5863 2023-07-28  1301.709510\n",
       "5864 2023-07-31  1308.848818\n",
       "5865 2023-08-01  1307.507092\n",
       "5866 2023-08-02  1293.791670\n",
       "5867 2023-08-03  1284.190849"
      ]
     },
     "execution_count": 7,
     "metadata": {},
     "output_type": "execute_result"
    }
   ],
   "source": [
    "nifty_data = pd.read_csv('data/NIFTY50.csv')\n",
    "nifty_data = nifty_data[['Date', 'Close']]\n",
    "nifty_data['Date'] = pd.to_datetime(nifty_data['Date'], format='%Y-%m-%d')\n",
    "# Remove post-2021 data because it's not complete\n",
    "nifty_data = nifty_data[nifty_data['Date'] < '2021-01-01']\n",
    "data.nifty_data = nifty_data\n",
    "\n",
    "nifty_data = pd.read_csv('data/^NSEI.csv')\n",
    "# Remove all pre-2021 data\n",
    "nifty_data = nifty_data[nifty_data['Date'] >= '2021-01-01']\n",
    "\n",
    "# Format data to match NIFTY50.csv\n",
    "nifty_data = nifty_data[['Date', 'Close']]\n",
    "nifty_data['Date'] = pd.to_datetime(nifty_data['Date'], format='%Y-%m-%d')\n",
    "\n",
    "# Combine datasets\n",
    "nifty_data = pd.concat([data.nifty_data, nifty_data])\n",
    "nifty_data = nifty_data.reset_index(drop=True)\n",
    "\n",
    "nifty_data['Close'] = nifty_data['Close'] / usd_inr['Close']\n",
    "nifty_data.columns = ['Date', 'NIFTY']\n",
    "\n",
    "data.nifty_data = nifty_data\n",
    "data.nifty_data.tail()"
   ]
  },
  {
   "cell_type": "markdown",
   "metadata": {},
   "source": [
    "The ***Gold Spot Prices*** dataset records gold prices (per ounce) from 1978 to 2023. Gold is often used as a hedge against inflation and is considered a safe haven asset due to its scarcity and its value in jewelry and electronics. This low risk profile makes gold a popular choice during times of economic uncertainty.\n",
    "\n",
    "Unlike most of the other datasets, this is provided as a Microsoft Excel workbook with multiple sheets.\n",
    "\n",
    "For maximum precision and granularity, we will use the \"Daily\" sheet, as this contains daily prices. The first 5 rows contain metadata, so we will skip them. The first 2 columns are empty and purely for formatting, so we will skip them as well. The remaining columns contain the Date, and the prices in various currencies. We will only use the USD column for a more consistent comparison with the other datasets."
   ]
  },
  {
   "cell_type": "code",
   "execution_count": 8,
   "metadata": {},
   "outputs": [
    {
     "data": {
      "text/html": [
       "<div>\n",
       "<style scoped>\n",
       "    .dataframe tbody tr th:only-of-type {\n",
       "        vertical-align: middle;\n",
       "    }\n",
       "\n",
       "    .dataframe tbody tr th {\n",
       "        vertical-align: top;\n",
       "    }\n",
       "\n",
       "    .dataframe thead th {\n",
       "        text-align: right;\n",
       "    }\n",
       "</style>\n",
       "<table border=\"1\" class=\"dataframe\">\n",
       "  <thead>\n",
       "    <tr style=\"text-align: right;\">\n",
       "      <th></th>\n",
       "      <th>Date</th>\n",
       "      <th>Gold</th>\n",
       "    </tr>\n",
       "  </thead>\n",
       "  <tbody>\n",
       "    <tr>\n",
       "      <th>0</th>\n",
       "      <td>1978-12-29</td>\n",
       "      <td>226.00</td>\n",
       "    </tr>\n",
       "    <tr>\n",
       "      <th>1</th>\n",
       "      <td>1979-01-01</td>\n",
       "      <td>226.00</td>\n",
       "    </tr>\n",
       "    <tr>\n",
       "      <th>2</th>\n",
       "      <td>1979-01-02</td>\n",
       "      <td>226.80</td>\n",
       "    </tr>\n",
       "    <tr>\n",
       "      <th>3</th>\n",
       "      <td>1979-01-03</td>\n",
       "      <td>218.60</td>\n",
       "    </tr>\n",
       "    <tr>\n",
       "      <th>4</th>\n",
       "      <td>1979-01-04</td>\n",
       "      <td>223.15</td>\n",
       "    </tr>\n",
       "  </tbody>\n",
       "</table>\n",
       "</div>"
      ],
      "text/plain": [
       "        Date    Gold\n",
       "0 1978-12-29  226.00\n",
       "1 1979-01-01  226.00\n",
       "2 1979-01-02  226.80\n",
       "3 1979-01-03  218.60\n",
       "4 1979-01-04  223.15"
      ]
     },
     "execution_count": 8,
     "metadata": {},
     "output_type": "execute_result"
    }
   ],
   "source": [
    "gold_data = pd.read_excel('data/GoldSpotPrices.xlsx', sheet_name='Daily', skiprows=5, index_col=2)\n",
    "gold_data = gold_data.drop(['Unnamed: 0', 'Unnamed: 1'], axis=1)\n",
    "gold_data = gold_data.iloc[:, 0:1]\n",
    "# The index is already in datetime format, but needs to be converted to a regular column\n",
    "gold_data.reset_index(level=0, inplace=True)\n",
    "gold_data.columns = ['Date', 'Gold']\n",
    "\n",
    "data.gold_data = gold_data\n",
    "data.gold_data.head()"
   ]
  },
  {
   "cell_type": "markdown",
   "metadata": {},
   "source": [
    "The ***U.S. Department of the Treasury - Interest Rates Data CSV Archive*** contains data about US Treasury Bill interest rates. T-Bills are a financial instrument that the U.S Government uses to control the amount of money in circulation. Investors buy T-Bills from the government at a discount to the face value (the amount that the government will pay back when the T-Bill matures). The difference between the face value and the purchase price is the interest that the investor earns when the T-Bill matures.\n",
    "\n",
    "T-Bills are considered risk-free investments because the US Government is extremely unlikely to default on its loans. They are sold at different lengths of time to maturity, from 4 to 52 weeks. Longer maturities generally pay higher interest rates, as investors demand more compensation for the risk of holding the investment for a longer period of time. We will hence consider only the 52 week T-Bill for our analysis as it is the longest maturity available.\n",
    "\n",
    "However, there are two columns for 52 week bills - \"52 WEEKS BANK DISCOUNT\" and \"52 WEEKS COUPON EQUIVALENT\". T-Bills only pay out at the end of the investment, and this is what the former represents. The latter is the equivalent interest rate that the investor would earn if the T-Bill paid interest every 6 months. To avoid confusion, we will stick with the \"52 WEEKS BANK DISCOUNT\" column."
   ]
  },
  {
   "cell_type": "code",
   "execution_count": 9,
   "metadata": {},
   "outputs": [
    {
     "data": {
      "text/html": [
       "<div>\n",
       "<style scoped>\n",
       "    .dataframe tbody tr th:only-of-type {\n",
       "        vertical-align: middle;\n",
       "    }\n",
       "\n",
       "    .dataframe tbody tr th {\n",
       "        vertical-align: top;\n",
       "    }\n",
       "\n",
       "    .dataframe thead th {\n",
       "        text-align: right;\n",
       "    }\n",
       "</style>\n",
       "<table border=\"1\" class=\"dataframe\">\n",
       "  <thead>\n",
       "    <tr style=\"text-align: right;\">\n",
       "      <th></th>\n",
       "      <th>Date</th>\n",
       "      <th>52 WEEKS BANK DISCOUNT</th>\n",
       "    </tr>\n",
       "  </thead>\n",
       "  <tbody>\n",
       "    <tr>\n",
       "      <th>0</th>\n",
       "      <td>2021-12-31</td>\n",
       "      <td>0.38</td>\n",
       "    </tr>\n",
       "    <tr>\n",
       "      <th>1</th>\n",
       "      <td>2021-12-30</td>\n",
       "      <td>0.37</td>\n",
       "    </tr>\n",
       "    <tr>\n",
       "      <th>2</th>\n",
       "      <td>2021-12-29</td>\n",
       "      <td>0.38</td>\n",
       "    </tr>\n",
       "    <tr>\n",
       "      <th>3</th>\n",
       "      <td>2021-12-28</td>\n",
       "      <td>0.38</td>\n",
       "    </tr>\n",
       "    <tr>\n",
       "      <th>4</th>\n",
       "      <td>2021-12-27</td>\n",
       "      <td>0.30</td>\n",
       "    </tr>\n",
       "  </tbody>\n",
       "</table>\n",
       "</div>"
      ],
      "text/plain": [
       "        Date  52 WEEKS BANK DISCOUNT\n",
       "0 2021-12-31                    0.38\n",
       "1 2021-12-30                    0.37\n",
       "2 2021-12-29                    0.38\n",
       "3 2021-12-28                    0.38\n",
       "4 2021-12-27                    0.30"
      ]
     },
     "execution_count": 9,
     "metadata": {},
     "output_type": "execute_result"
    }
   ],
   "source": [
    "bond_data = pd.read_csv('data/US-Treasury.csv')\n",
    "bond_data['Date'] = pd.to_datetime(bond_data['Date'], format='%m/%d/%y')\n",
    "bond_data = bond_data[['Date', '52 WEEKS BANK DISCOUNT']]\n",
    "\n",
    "data.bond_data = bond_data\n",
    "data.bond_data.head()"
   ]
  },
  {
   "cell_type": "markdown",
   "metadata": {},
   "source": [
    "The ***Fidelity Growth Company Fund Historical Quotes*** dataset contains the historical stock prices of the Fidelity Growth Company Fund from 2000 to 2022. The Fidelity Growth Company Fund is a professionally managed mutual fund that invests in companies that are expected to grow faster than the rest of the market. Investors invest in mutual funds hoping to earn higher returns with the help of professional fund managers.\n",
    "\n",
    "The dataset is split into 22 CSV files, one for each year."
   ]
  },
  {
   "cell_type": "code",
   "execution_count": 10,
   "metadata": {},
   "outputs": [
    {
     "data": {
      "text/html": [
       "<div>\n",
       "<style scoped>\n",
       "    .dataframe tbody tr th:only-of-type {\n",
       "        vertical-align: middle;\n",
       "    }\n",
       "\n",
       "    .dataframe tbody tr th {\n",
       "        vertical-align: top;\n",
       "    }\n",
       "\n",
       "    .dataframe thead th {\n",
       "        text-align: right;\n",
       "    }\n",
       "</style>\n",
       "<table border=\"1\" class=\"dataframe\">\n",
       "  <thead>\n",
       "    <tr style=\"text-align: right;\">\n",
       "      <th></th>\n",
       "      <th>Date</th>\n",
       "      <th>MF</th>\n",
       "    </tr>\n",
       "  </thead>\n",
       "  <tbody>\n",
       "    <tr>\n",
       "      <th>0</th>\n",
       "      <td>2000-12-29</td>\n",
       "      <td>7.14</td>\n",
       "    </tr>\n",
       "    <tr>\n",
       "      <th>1</th>\n",
       "      <td>2000-12-28</td>\n",
       "      <td>7.30</td>\n",
       "    </tr>\n",
       "    <tr>\n",
       "      <th>2</th>\n",
       "      <td>2000-12-27</td>\n",
       "      <td>7.22</td>\n",
       "    </tr>\n",
       "    <tr>\n",
       "      <th>3</th>\n",
       "      <td>2000-12-26</td>\n",
       "      <td>7.08</td>\n",
       "    </tr>\n",
       "    <tr>\n",
       "      <th>4</th>\n",
       "      <td>2000-12-22</td>\n",
       "      <td>7.04</td>\n",
       "    </tr>\n",
       "  </tbody>\n",
       "</table>\n",
       "</div>"
      ],
      "text/plain": [
       "        Date    MF\n",
       "0 2000-12-29  7.14\n",
       "1 2000-12-28  7.30\n",
       "2 2000-12-27  7.22\n",
       "3 2000-12-26  7.08\n",
       "4 2000-12-22  7.04"
      ]
     },
     "execution_count": 10,
     "metadata": {},
     "output_type": "execute_result"
    }
   ],
   "source": [
    "mf_files = []\n",
    "for i in range (0, 23):\n",
    "    # Files are named for the last 2 digits of the year, make sure to add 0 to single digit years\n",
    "    mf_files.append(pd.read_csv('data/Fidelity/' + str(i).zfill(2) + '.csv'))\n",
    "mf_data = pd.concat(mf_files, ignore_index=True)\n",
    "mf_data = mf_data[['Date', 'Close']]\n",
    "mf_data['Date'] = pd.to_datetime(mf_data['Date'], format='%m/%d/%Y')\n",
    "mf_data.columns = ['Date', 'MF']\n",
    "\n",
    "data.mf_data = mf_data\n",
    "data.mf_data.head()"
   ]
  },
  {
   "cell_type": "markdown",
   "metadata": {},
   "source": [
    "The ***Singapore Department of Statistics - Consumer Price Index (CPI), 2019 As Base Year*** dataset contains the monthly consumer price index (CPI) from 1961 to 2023. CPI is a measure of inflation, and is calculated by measuring the change in price of a fixed basket of goods and services, including food, power, and rent.\n",
    "\n",
    "If an investor holds cash without earning interest and the CPI is rising, the investor's purchasing power is decreasing, which can be considered as a loss of money.\n",
    "\n",
    "The first 10 rows of the dataset contain metadata and will be skipped. This dataset is arranged such that the dates are in columns and the CPI values are in rows. For consistency, the dataset will be transposed so that the dates are in rows and the CPI values are in columns. We will also consider only the \"All Items\" category, which is the overall CPI.\n",
    "\n",
    "CPI data is structured as relative values against a base of 100, which is the CPI value in the base year. The base value for this dataset was in 2021, but to make calculations easier later, we will convert the base year to December 2022."
   ]
  },
  {
   "cell_type": "code",
   "execution_count": 11,
   "metadata": {},
   "outputs": [
    {
     "data": {
      "text/html": [
       "<div>\n",
       "<style scoped>\n",
       "    .dataframe tbody tr th:only-of-type {\n",
       "        vertical-align: middle;\n",
       "    }\n",
       "\n",
       "    .dataframe tbody tr th {\n",
       "        vertical-align: top;\n",
       "    }\n",
       "\n",
       "    .dataframe thead th {\n",
       "        text-align: right;\n",
       "    }\n",
       "</style>\n",
       "<table border=\"1\" class=\"dataframe\">\n",
       "  <thead>\n",
       "    <tr style=\"text-align: right;\">\n",
       "      <th></th>\n",
       "      <th>Date</th>\n",
       "      <th>CPI</th>\n",
       "    </tr>\n",
       "  </thead>\n",
       "  <tbody>\n",
       "    <tr>\n",
       "      <th>0</th>\n",
       "      <td>2022-12-01</td>\n",
       "      <td>100.000000</td>\n",
       "    </tr>\n",
       "    <tr>\n",
       "      <th>1</th>\n",
       "      <td>2022-11-01</td>\n",
       "      <td>99.795838</td>\n",
       "    </tr>\n",
       "    <tr>\n",
       "      <th>2</th>\n",
       "      <td>2022-10-01</td>\n",
       "      <td>98.837084</td>\n",
       "    </tr>\n",
       "    <tr>\n",
       "      <th>3</th>\n",
       "      <td>2022-09-01</td>\n",
       "      <td>99.238213</td>\n",
       "    </tr>\n",
       "    <tr>\n",
       "      <th>4</th>\n",
       "      <td>2022-08-01</td>\n",
       "      <td>98.810102</td>\n",
       "    </tr>\n",
       "  </tbody>\n",
       "</table>\n",
       "</div>"
      ],
      "text/plain": [
       "        Date         CPI\n",
       "0 2022-12-01  100.000000\n",
       "1 2022-11-01   99.795838\n",
       "2 2022-10-01   98.837084\n",
       "3 2022-09-01   99.238213\n",
       "4 2022-08-01   98.810102"
      ]
     },
     "execution_count": 11,
     "metadata": {},
     "output_type": "execute_result"
    }
   ],
   "source": [
    "sg_cpi_data = pd.read_csv('data/SG-CPI.csv', skiprows=10)\n",
    "sg_cpi_data = sg_cpi_data.T # Transpose\n",
    "sg_cpi_data = sg_cpi_data.iloc[:, :1] # Keep only the first column (All Items)\n",
    "sg_cpi_data.columns = sg_cpi_data.iloc[0] # Set column names to the first row\n",
    "sg_cpi_data = sg_cpi_data.iloc[1:, :] # Remove the first row\n",
    "sg_cpi_data.index = sg_cpi_data.index.str.strip()\n",
    "sg_cpi_data.index = pd.to_datetime(sg_cpi_data.index, format='%Y %b')\n",
    "sg_cpi_data.reset_index(inplace=True)\n",
    "sg_cpi_data.columns = ['Date', 'CPI']\n",
    "sg_cpi_data['CPI'] = sg_cpi_data['CPI'].astype(float)\n",
    "\n",
    "# Remove post-2022 data and reindex\n",
    "sg_cpi_data = sg_cpi_data.loc[sg_cpi_data['Date'] <= '2022-12-01']\n",
    "sg_cpi_data.reset_index(drop=True, inplace=True)\n",
    "\n",
    "# Rebase so that the base of 100 is December 2022\n",
    "december_2022_cpi = sg_cpi_data.loc[sg_cpi_data['Date'] == '2022-12-01', 'CPI'].values[0]\n",
    "sg_cpi_data['CPI'] = (sg_cpi_data['CPI'] / december_2022_cpi) * 100\n",
    "\n",
    "data.sg_cpi_data = sg_cpi_data\n",
    "data.sg_cpi_data.head()"
   ]
  },
  {
   "cell_type": "markdown",
   "metadata": {},
   "source": [
    "The ***U.S. Bureau of Labor Statistics - Consumer Price Index for All Urban Consumers*** dataset contains U.S. CPI data from 1913 to 2023. Since many of our datasets are in USD, it is important to also track how the USD is changing in value over time.\n",
    "\n",
    "This dataset is provided as a Microsoft Excel workbook, where the first 11 rows are metadata and will be skipped. The last two columns contain the overall CPI for the first and second half of each year, and will also be dropped.\n",
    "\n",
    "The base value for this dataset was in the 1980s, but to make calculations easier later, we will convert the base year to December 2022."
   ]
  },
  {
   "cell_type": "code",
   "execution_count": 12,
   "metadata": {},
   "outputs": [
    {
     "name": "stderr",
     "output_type": "stream",
     "text": [
      "/Users/karandeepsingh/miniforge3/envs/pds/lib/python3.10/site-packages/openpyxl/styles/stylesheet.py:226: UserWarning: Workbook contains no default style, apply openpyxl's default\n",
      "  warn(\"Workbook contains no default style, apply openpyxl's default\")\n"
     ]
    }
   ],
   "source": [
    "us_cpi_data = pd.read_excel('data/USA-CPI.xlsx', skiprows=11, usecols=range(13))\n",
    "us_cpi_data = us_cpi_data.melt(id_vars=['Year'], var_name='Month', value_name='CPI')\n",
    "us_cpi_data['Date'] = us_cpi_data['Year'].astype(str) + '-' + us_cpi_data['Month']\n",
    "us_cpi_data['Date'] = pd.to_datetime(us_cpi_data['Date'], format='%Y-%b')\n",
    "us_cpi_data = us_cpi_data.drop(columns=['Year', 'Month'])\n",
    "us_cpi_data.columns = ['CPI', 'Date']\n",
    "us_cpi_data['CPI'] = us_cpi_data['CPI'].astype(float)\n",
    "\n",
    "# Remove post-2022 data\n",
    "us_cpi_data = us_cpi_data[us_cpi_data['Date'] <= '2022-12-01']\n",
    "# Sort by date\n",
    "us_cpi_data = us_cpi_data.sort_values(by='Date')\n",
    "# Reindex\n",
    "us_cpi_data = us_cpi_data.reset_index(drop=True)\n",
    "\n",
    "# Rebase so that the base of 100 is December 2022\n",
    "december_2022_cpi = us_cpi_data[us_cpi_data['Date'] == '2022-12-01']['CPI'].values[0]\n",
    "us_cpi_data['CPI'] = us_cpi_data['CPI'] / december_2022_cpi * 100\n",
    "us_cpi_data.tail()\n",
    "\n",
    "data.us_cpi_data = us_cpi_data"
   ]
  },
  {
   "cell_type": "markdown",
   "metadata": {},
   "source": [
    "Finally, we can merge the dataframes together."
   ]
  },
  {
   "cell_type": "code",
   "execution_count": 13,
   "metadata": {},
   "outputs": [
    {
     "data": {
      "text/html": [
       "<div>\n",
       "<style scoped>\n",
       "    .dataframe tbody tr th:only-of-type {\n",
       "        vertical-align: middle;\n",
       "    }\n",
       "\n",
       "    .dataframe tbody tr th {\n",
       "        vertical-align: top;\n",
       "    }\n",
       "\n",
       "    .dataframe thead th {\n",
       "        text-align: right;\n",
       "    }\n",
       "</style>\n",
       "<table border=\"1\" class=\"dataframe\">\n",
       "  <thead>\n",
       "    <tr style=\"text-align: right;\">\n",
       "      <th></th>\n",
       "      <th>Date</th>\n",
       "      <th>SPY</th>\n",
       "      <th>STI</th>\n",
       "      <th>NIFTY</th>\n",
       "      <th>Gold</th>\n",
       "      <th>MF</th>\n",
       "    </tr>\n",
       "  </thead>\n",
       "  <tbody>\n",
       "    <tr>\n",
       "      <th>0</th>\n",
       "      <td>2000-01-03</td>\n",
       "      <td>94.595070</td>\n",
       "      <td>1483.355132</td>\n",
       "      <td>198.923052</td>\n",
       "      <td>290.25</td>\n",
       "      <td>8.51</td>\n",
       "    </tr>\n",
       "    <tr>\n",
       "      <th>1</th>\n",
       "      <td>2000-01-04</td>\n",
       "      <td>90.895859</td>\n",
       "      <td>1450.361309</td>\n",
       "      <td>204.732575</td>\n",
       "      <td>281.50</td>\n",
       "      <td>8.05</td>\n",
       "    </tr>\n",
       "    <tr>\n",
       "      <th>2</th>\n",
       "      <td>2000-01-05</td>\n",
       "      <td>91.058388</td>\n",
       "      <td>1380.470039</td>\n",
       "      <td>199.372821</td>\n",
       "      <td>280.45</td>\n",
       "      <td>7.95</td>\n",
       "    </tr>\n",
       "    <tr>\n",
       "      <th>3</th>\n",
       "      <td>2000-01-06</td>\n",
       "      <td>89.594994</td>\n",
       "      <td>1370.619026</td>\n",
       "      <td>202.096426</td>\n",
       "      <td>279.40</td>\n",
       "      <td>7.82</td>\n",
       "    </tr>\n",
       "    <tr>\n",
       "      <th>4</th>\n",
       "      <td>2000-01-07</td>\n",
       "      <td>94.798325</td>\n",
       "      <td>1395.988604</td>\n",
       "      <td>201.559201</td>\n",
       "      <td>282.10</td>\n",
       "      <td>8.23</td>\n",
       "    </tr>\n",
       "  </tbody>\n",
       "</table>\n",
       "</div>"
      ],
      "text/plain": [
       "        Date        SPY          STI       NIFTY    Gold    MF\n",
       "0 2000-01-03  94.595070  1483.355132  198.923052  290.25  8.51\n",
       "1 2000-01-04  90.895859  1450.361309  204.732575  281.50  8.05\n",
       "2 2000-01-05  91.058388  1380.470039  199.372821  280.45  7.95\n",
       "3 2000-01-06  89.594994  1370.619026  202.096426  279.40  7.82\n",
       "4 2000-01-07  94.798325  1395.988604  201.559201  282.10  8.23"
      ]
     },
     "execution_count": 13,
     "metadata": {},
     "output_type": "execute_result"
    }
   ],
   "source": [
    "# merge data.spy_data, data.sti_data, and data.nifty_data on date\n",
    "\n",
    "asset_data = pd.merge(data.spy_data, data.sti_data, on='Date', how='inner')\n",
    "asset_data = pd.merge(asset_data, data.nifty_data, on='Date', how='inner')\n",
    "asset_data = pd.merge(asset_data, data.gold_data, on='Date', how='inner')\n",
    "asset_data = pd.merge(asset_data, data.mf_data, on='Date', how='inner')\n",
    "asset_data.head()"
   ]
  },
  {
   "cell_type": "markdown",
   "metadata": {},
   "source": [
    "### 1. What benefits does investing offer, compared to holding cash?\n",
    "\n",
    "Before analysing different investments, we need to understand why we should invest in the first place. In this section, we will analyse the issue that plagues all economic participants: inflation."
   ]
  },
  {
   "cell_type": "code",
   "execution_count": 14,
   "metadata": {},
   "outputs": [
    {
     "data": {
      "image/png": "[encoded data removed]",
      "text/plain": [
       "<Figure size 640x480 with 1 Axes>"
      ]
     },
     "metadata": {},
     "output_type": "display_data"
    }
   ],
   "source": [
    "# save 1000 USD in each currency every month, account for inflation and reduce previous values\n",
    "currencies = [[], []] # SGD, USD\n",
    "sgd_values = []\n",
    "raw_values = []\n",
    "\n",
    "for year in range(2000, 2023):\n",
    "    for month in range(1, 13):\n",
    "        rate = usd_sgd.loc[(usd_sgd['Date'].dt.year == year) & (usd_sgd['Date'].dt.month == month)]['Close'].values[0] # get USD/SGD rate for month\n",
    "        converted_sgd = 1000 * rate # get val of 1000 USD in SGD\n",
    "        sgd_value_with_inflation = converted_sgd * ((data.sg_cpi_data.loc[(data.sg_cpi_data['Date'].dt.year == year) & (data.sg_cpi_data['Date'].dt.month == month)]['CPI'].values[0])/100)\n",
    "        if len(currencies[0]) == 0:\n",
    "            raw_values.append(1000)\n",
    "            sgd_values.append(sgd_value_with_inflation)\n",
    "            currencies[1].append(1000 * ((data.us_cpi_data.loc[(data.us_cpi_data['Date'].dt.year == year) & (data.us_cpi_data['Date'].dt.month == month)]['CPI'].values[0])/100))\n",
    "        else:\n",
    "            raw_values.append(1000 + raw_values[-1])\n",
    "            sgd_values.append((sgd_value_with_inflation) + sgd_values[-1])\n",
    "            currencies[1].append((1000 * ((data.us_cpi_data.loc[(data.us_cpi_data['Date'].dt.year == year) & (data.us_cpi_data['Date'].dt.month == month)]['CPI'].values[0])/100)) + currencies[1][-1])\n",
    "        currencies[0].append(sgd_values[-1] / rate) # convert SGD to USD\n",
    "\n",
    "dates = pd.date_range(start='2000-01-01', end='2022-12-31', freq='M') # every month from 2000-2022\n",
    "\n",
    "sns.set_style('darkgrid')\n",
    "sns.lineplot(x=dates, y=currencies[0], label='SGD')\n",
    "sns.lineplot(x=dates, y=currencies[1], label='USD')\n",
    "sns.lineplot(x=dates, y=raw_values, label='Contributions (without inflation)')\n",
    "\n",
    "plt.ylim(0, 300000)\n",
    "plt.xlim(pd.Timestamp('2000-01-01'), pd.Timestamp('2022-12-31'))\n",
    "plt.xticks(rotation=25)\n",
    "plt.title('Growth of $1000 Monthly Investment (2000-2022)')\n",
    "plt.gca().yaxis.set_major_formatter(FuncFormatter(lambda x, _: '${:,.0f}'.format(x/1000) + 'k')) # Format y-axis ticks in 100k increments\n",
    "plt.show()"
   ]
  },
  {
   "cell_type": "markdown",
   "metadata": {},
   "source": [
    "It is important to have healthy savings in case of emergencies, and also to prepare for retirement. If a person puts $1000 into a savings account that pays 0% interest rate, they might make the mistake of assuming that they're building a strong retirement fund, but this is not the case.\n",
    "\n",
    "From 2000-2022, there were 276 months. Therefore, it would be reasonable to expect that the saver would end with 276,000 USD. However, the saver ended with 207k USD. This is due to inflation eroding their buying power. The Consumer Price Index is a measure of inflation, and if we look at the data, we can see that the CPI has been increasing over the years. This means that the saver's money is worth less and less over time. The original $100 that they started with is now worth less than $700.\n",
    "\n",
    "This issue is not exclusive to the U.S Dollar. The Singapore Dollar has also been depreciating against inflation. Despite investing 276k USD worth of SGD, the investor ended with just 237k USD. The reason for the amount being larger than the USD is that the Singapore Dollar has been appreciating against the USD since 2000, offsetting some of the inflation. However, it should be noted that the SGD still failed to keep up with inflation.\n",
    "\n",
    "The solution to this problem is to invest in assets that appreciate faster than inflation. In the coming sections, we analyse different assets and their performance against inflation."
   ]
  },
  {
   "cell_type": "markdown",
   "metadata": {},
   "source": [
    "# 2. Which investment vehicles are the most effective in growing wealth over time?\n",
    "\n"
   ]
  },
  {
   "cell_type": "code",
   "execution_count": 15,
   "metadata": {},
   "outputs": [
    {
     "data": {
      "image/png": "[encoded data removed]",
      "text/plain": [
       "<Figure size 640x480 with 1 Axes>"
      ]
     },
     "metadata": {},
     "output_type": "display_data"
    },
    {
     "data": {
      "image/png": "[encoded data removed]",
      "text/plain": [
       "<Figure size 640x480 with 1 Axes>"
      ]
     },
     "metadata": {},
     "output_type": "display_data"
    }
   ],
   "source": [
    "# Assume the investor started investing in 2000, and contributed 1000 USD every month.\n",
    "\n",
    "total_shares = [[], [], [], [], []]\n",
    "total_value = [[], [], [], [], []]\n",
    "\n",
    "assets = ['SPY', 'STI', 'NIFTY', 'Gold', 'MF']\n",
    "\n",
    "for i, asset in enumerate(assets):\n",
    "    for year in range(2000, 2023):\n",
    "        for month in range(1, 13):\n",
    "            # Get row from asset_data where year and month matches the Date column\n",
    "            row = asset_data.loc[(asset_data['Date'].dt.year == year) & (asset_data['Date'].dt.month == month)]\n",
    "            # Calculate number of shares purchased with $1000\n",
    "            if len(total_shares[i]) == 0:\n",
    "                num_shares = 1000 / row[asset].values[0]\n",
    "            else:\n",
    "                num_shares = total_shares[i][-1] + (1000 / row[asset].values[0])\n",
    "            total_shares[i].append(num_shares)\n",
    "            # Calculate total value of shares\n",
    "            total_value[i].append(num_shares * row[asset].values[0])\n",
    "\n",
    "palette = sns.color_palette(\"bright\", 8)\n",
    "sns.set_style('darkgrid')\n",
    "\n",
    "sns.lineplot(x=dates, y=total_value[0], label='S&P 500')\n",
    "sns.lineplot(x=dates, y=total_value[1], label='Straits Times Index')\n",
    "sns.lineplot(x=dates, y=total_value[2], label='NIFTY 50')\n",
    "sns.lineplot(x=dates, y=total_value[3], label='Gold')\n",
    "sns.lineplot(x=dates, y=total_value[4], label='Fidelity Growth Company Fund')\n",
    "sns.lineplot(x=dates, y=currencies[0], label='SGD')\n",
    "sns.lineplot(x=dates, y=currencies[1], label='USD')\n",
    "sns.lineplot(x=dates, y=raw_values, label='Contributions (without inflation)')\n",
    "\n",
    "plt.ylim(0, 1400000)\n",
    "plt.xlim(pd.Timestamp('2000-01-01'), pd.Timestamp('2022-12-31'))\n",
    "plt.xticks(rotation=25)\n",
    "plt.title('Growth of $1000 Monthly Investment (2000-2022)')\n",
    "plt.gca().yaxis.set_major_formatter(FuncFormatter(lambda x, _: '${:,.0f}'.format(x/1000) + 'k')) # Format y-axis ticks in 100k increments\n",
    "plt.show()\n",
    "\n",
    "# bar chart of total value\n",
    "plt.rcParams['axes.facecolor'] = 'FFFFFF'\n",
    "sns.barplot(x=['SPY', 'STI', 'NIFTY', 'Gold', 'MF', 'SGD', 'USD'], y=[total_value[0][-1], total_value[1][-1], total_value[2][-1], total_value[3][-1], total_value[4][-1], currencies[0][-1], currencies[1][-1]], palette=palette)\n",
    "plt.gca().yaxis.set_major_formatter(FuncFormatter(lambda x, _: '${:,.0f}'.format(x/1000) + 'k')) # Format y-axis ticks in 100k increments\n",
    "\n",
    "for index, value in enumerate([total_value[0][-1], total_value[1][-1], total_value[2][-1], total_value[3][-1], total_value[4][-1]]):\n",
    "    plt.text(index, value, '${:,.0f}'.format(value/1000) + 'k', ha='center', va='bottom')\n",
    "for index, value in enumerate([currencies[0][-1], currencies[1][-1]]):\n",
    "    plt.text(index+5, value, '${:,.0f}'.format(value/1000) + 'k', ha='center', va='bottom')\n",
    "plt.title('Final Value after 22 Years of Investment')\n",
    "plt.show()"
   ]
  },
  {
   "cell_type": "markdown",
   "metadata": {},
   "source": [
    "From the results, we can see that the Straits Times Index consistently underperformed all other non-cash assets in the portfolio, but it did beat inflation. This should be expected, as The Straits Times Index consists of mainly banks and real estate companies. These companies are not expected to perform well in a low interest rate environment, like the one from 2010 to 2022.\n",
    "\n",
    "For better results, the investor could have invested in Gold, which benefitted from uncertainty in the market in 2008-2012 (thanks to the Global Financial Crisis) and 2020-2022 (thanks to the COVID-19 pandemic). The investor would have considerably more money if they had invested in Gold instead of the Straits Times Index, at 706,000 USD.\n",
    "\n",
    "Our selected Mutual Fund did even better, ending at 864,000 USD. This can be attributed to the fact that the Fidelity Growth Company Fund invests in companies that are expected to grow at a faster rate than the market. This is a good strategy to use in a low interest rate environment, as investors are more willing to take on risk in order to get higher returns.\n",
    "\n",
    "However, despite being professionally managed, the Mutual Fund still failed to beat the S&P 500, which ended at 960,000 USD. The difference is even larger if we account for the management fee that Mutual Funds tend to charge. This shows that even professionals are unable to consistently beat the market.\n",
    "\n",
    "Emerging Markets were the best performing asset in the portfolio, ending at 973,000 USD. This can be attributed to the rapid economic advancements in India. India was also not hit as hard by the 2008 Global Financial Crisis, as it was not as integrated into the global economy as it is today. This allowed India to continue growing, while the U.S was in a recession. Similarly, the U.S entered a smaller recession in late 2021 due to high inflation, but India was not affected as much.\n",
    "\n",
    "### **We can thus conclude that investing is a valuable and important tool to grow your wealth, and any intelligent investment strategy should outperform inflation. ETFs are the most effective way to grow your wealth, particularly the NIFTY50 ETF.**\n",
    "\n",
    "However, some investments are more volatile than others. Some investors may choose to settle for lower returns in exchange for lower volatility and better peace of mind. In the next section, we will look at the volatility of each asset class in the portfolio."
   ]
  },
  {
   "cell_type": "markdown",
   "metadata": {},
   "source": [
    "# 3. Which investment vehicles are the most volatile?"
   ]
  },
  {
   "cell_type": "code",
   "execution_count": null,
   "metadata": {},
   "outputs": [],
   "source": []
  },
  {
   "cell_type": "markdown",
   "metadata": {},
   "source": []
  },
  {
   "cell_type": "markdown",
   "metadata": {},
   "source": [
    "### Important Considerations\n",
    "- In our analysis, we assumed that the investor paid $0 in fees and commissions, and that they had the ability to purchase fractional shares. However, zero commission trading and fractional shares are both relatively new developments.\n"
   ]
  }
 ],
 "metadata": {
  "kernelspec": {
   "display_name": "pds",
   "language": "python",
   "name": "python3"
  },
  "language_info": {
   "codemirror_mode": {
    "name": "ipython",
    "version": 3
   },
   "file_extension": ".py",
   "mimetype": "text/x-python",
   "name": "python",
   "nbconvert_exporter": "python",
   "pygments_lexer": "ipython3",
   "version": "3.10.12"
  },
  "orig_nbformat": 4
 },
 "nbformat": 4,
 "nbformat_minor": 2
}
