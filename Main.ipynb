{
 "cells": [
  {
   "cell_type": "markdown",
   "metadata": {},
   "source": [
    "## Comparing Long Term Investment Strategies\n",
    "### Karandeep Singh"
   ]
  },
  {
   "cell_type": "markdown",
   "metadata": {},
   "source": [
    "Investments are critical to long term financial security. Through the power of compound interest, investors can grow their wealth over time. However, there are many different investment strategies that can be used to grow wealth.\n",
    "\n",
    "In this analysis, we will compare the benefits of investing in:\n",
    "- Cryptocurrency\n",
    "- Equities in the Largest Economy (US)\n",
    "- Local Equities (Singapore)\n",
    "- Emerging Market Equities (India)\n",
    "- Safe Assets (Gold)\n",
    "- Low Risk Assets (US Treasury Bonds)\n",
    "- Professional Management (Mutual Funds)\n",
    "\n",
    "**The goal of this analysis is to determine which investment strategies are the most effective in growing wealth over time.**\n",
    "\n",
    "Insights I hope to gain from this analysis include:\n",
    "\n",
    "1. What benefits does investing offer, compared to holding cash?\n",
    "2. Which investment vehicles are the most effective in growing wealth over time?\n",
    "3. Which investment vehicles offer the best risk-adjusted returns?\n",
    "4. Which investment vehicles are the most volatile?\n",
    "5. Are developing countries likely to outperform developed countries in the long run?\n",
    "6. Does GDP growth translate to stock market growth?\n",
    "\n",
    "This analysis makes use of the following datasets:\n",
    "- [SPDR S&P 500 ETF Trust (SPY) Historical Prices](https://finance.yahoo.com/quote/SPY/history?period1=1659308442&period2=1690844442&interval=1mo&filter=history&frequency=1mo&includeAdjustedClose=true)\n",
    "- [Bitcoin USD (BTC-USD) Historical Prices](https://finance.yahoo.com/quote/BTC-USD/history?period1=1659322815&period2=1690858815&interval=1mo&filter=history&frequency=1mo&includeAdjustedClose=true)\n",
    "- [FTSE Straits Times Index STI Historical Prices](https://www.wsj.com/market-data/quotes/index/SG/STI/historical-prices)\n",
    "- [NIFTY Indices Dataset](https://www.kaggle.com/datasets/sudalairajkumar/nifty-indices-dataset)\n",
    "- [Gold Spot Prices](https://www.gold.org/goldhub/data/gold-prices)\n",
    "- [U.S. Department of the Treasury - Interest Rates Data CSV Archive](https://home.treasury.gov/interest-rates-data-csv-archive)\n",
    "- [Fidelity Growth Company Fund Historical Quotes](https://www.marketwatch.com/investing/fund/fdgrx/download-data)\n",
    "- [Singapore Department of Statistics - Consumer Price Index (CPI), 2019 As Base Year](https://tablebuilder.singstat.gov.sg/table/TS/M212881)\n",
    "- [U.S. Bureau of Labor Statistics - Consumer Price Index for All Urban Consumers](https://www.bls.gov/cpi/tables/supplemental-files/)\n",
    "- [Singapore Dollars to U.S. Dollar Spot Exchange Rate](https://fred.stlouisfed.org/series/DEXSIUS)\n",
    "- [Indian Rupees to U.S. Dollar Spot Exchange Rate](https://fred.stlouisfed.org/series/EXINUS)"
   ]
  },
  {
   "cell_type": "code",
   "execution_count": 1,
   "metadata": {},
   "outputs": [],
   "source": [
    "# Importing required libraries\n",
    "import os\n",
    "import pandas as pd\n",
    "import numpy as np\n",
    "import seaborn as sns\n",
    "import matplotlib.pyplot as plt\n",
    "import matplotlib.ticker as ticker\n",
    "from matplotlib.ticker import FuncFormatter"
   ]
  },
  {
   "cell_type": "markdown",
   "metadata": {},
   "source": [
    "### Loading and Preprocessing the Datasets"
   ]
  },
  {
   "cell_type": "code",
   "execution_count": 2,
   "metadata": {},
   "outputs": [],
   "source": [
    "class ParsedDataFrames:\n",
    "    spy_data = None\n",
    "    btc_data = None\n",
    "    sti_data = None\n",
    "    nifty_data = None\n",
    "    gold_data = None\n",
    "    bond_data = None\n",
    "    mf_data = None\n",
    "    sg_cpi_data = None\n",
    "    us_cpi_data = None\n",
    "\n",
    "data = ParsedDataFrames()"
   ]
  },
  {
   "cell_type": "markdown",
   "metadata": {},
   "source": [
    "Later, we'll be using data in United States Dollars, Singapore Dollars and Indian Rupees.\n",
    "\n",
    "The ***Singapore Dollars to U.S. Dollar Spot Exchange Rate*** and ***Indian Rupees to U.S. Dollar Spot Exchange Rate*** datasets allow us to compare this data correctly. They contain the exchange rates for USDSGD and USDINR respectively."
   ]
  },
  {
   "cell_type": "code",
   "execution_count": 3,
   "metadata": {},
   "outputs": [],
   "source": [
    "usd_sgd = pd.read_csv('data/DEXSIUS.csv', parse_dates=True)\n",
    "usd_inr = pd.read_csv('data/EXINUS.csv', parse_dates=True)"
   ]
  },
  {
   "cell_type": "markdown",
   "metadata": {},
   "source": [
    "The ***SPDR S&P 500 ETF Trust (SPY) Historical Prices*** dataset contains the historical prices of the SPY ETF. This is a fund that tracks the performance of the 500 largest companies in the USA. It is the most commonly used proxy for the entire US stock market.\n",
    "\n",
    "We can discard all columns apart from the date and the adjusted close, which is the price of the ETF at the end of each trading day and adjusted for dividends and stock splits. A stock split is a process where a single share is split into multiple shares, which reduces the price of each share and can cause our data to be incorrect unless we adjust for it."
   ]
  },
  {
   "cell_type": "code",
   "execution_count": 4,
   "metadata": {},
   "outputs": [
    {
     "data": {
      "text/html": [
       "<div>\n",
       "<style scoped>\n",
       "    .dataframe tbody tr th:only-of-type {\n",
       "        vertical-align: middle;\n",
       "    }\n",
       "\n",
       "    .dataframe tbody tr th {\n",
       "        vertical-align: top;\n",
       "    }\n",
       "\n",
       "    .dataframe thead th {\n",
       "        text-align: right;\n",
       "    }\n",
       "</style>\n",
       "<table border=\"1\" class=\"dataframe\">\n",
       "  <thead>\n",
       "    <tr style=\"text-align: right;\">\n",
       "      <th></th>\n",
       "      <th>Date</th>\n",
       "      <th>Adj Close</th>\n",
       "    </tr>\n",
       "  </thead>\n",
       "  <tbody>\n",
       "    <tr>\n",
       "      <th>0</th>\n",
       "      <td>1993-01-29</td>\n",
       "      <td>25.029373</td>\n",
       "    </tr>\n",
       "    <tr>\n",
       "      <th>1</th>\n",
       "      <td>1993-02-01</td>\n",
       "      <td>25.207396</td>\n",
       "    </tr>\n",
       "    <tr>\n",
       "      <th>2</th>\n",
       "      <td>1993-02-02</td>\n",
       "      <td>25.260807</td>\n",
       "    </tr>\n",
       "    <tr>\n",
       "      <th>3</th>\n",
       "      <td>1993-02-03</td>\n",
       "      <td>25.527821</td>\n",
       "    </tr>\n",
       "    <tr>\n",
       "      <th>4</th>\n",
       "      <td>1993-02-04</td>\n",
       "      <td>25.634634</td>\n",
       "    </tr>\n",
       "  </tbody>\n",
       "</table>\n",
       "</div>"
      ],
      "text/plain": [
       "        Date  Adj Close\n",
       "0 1993-01-29  25.029373\n",
       "1 1993-02-01  25.207396\n",
       "2 1993-02-02  25.260807\n",
       "3 1993-02-03  25.527821\n",
       "4 1993-02-04  25.634634"
      ]
     },
     "execution_count": 4,
     "metadata": {},
     "output_type": "execute_result"
    }
   ],
   "source": [
    "spy_data = pd.read_csv('data/SPY.csv')\n",
    "spy_data = spy_data[['Date', 'Adj Close']]\n",
    "# Date is formatted as yyyy-mm-dd, convert to datetime\n",
    "spy_data['Date'] = pd.to_datetime(spy_data['Date'])\n",
    "\n",
    "data.spy_data = spy_data\n",
    "data.spy_data.head()"
   ]
  },
  {
   "cell_type": "markdown",
   "metadata": {},
   "source": [
    "The ***FTSE Straits Times Index STI Historical Prices*** dataset contains the historical prices of the Straits Times Index (STI) from 2000 to 2019. Like SPY, STI is an index that can be used as a proxy for the Singapore stock market. It tracks the 30 largest companies listed on the Singapore Exchange (SGX).\n",
    "\n",
    "STI has never had a stock split, so the price data does not need to be adjusted."
   ]
  },
  {
   "cell_type": "code",
   "execution_count": 5,
   "metadata": {},
   "outputs": [
    {
     "data": {
      "text/html": [
       "<div>\n",
       "<style scoped>\n",
       "    .dataframe tbody tr th:only-of-type {\n",
       "        vertical-align: middle;\n",
       "    }\n",
       "\n",
       "    .dataframe tbody tr th {\n",
       "        vertical-align: top;\n",
       "    }\n",
       "\n",
       "    .dataframe thead th {\n",
       "        text-align: right;\n",
       "    }\n",
       "</style>\n",
       "<table border=\"1\" class=\"dataframe\">\n",
       "  <thead>\n",
       "    <tr style=\"text-align: right;\">\n",
       "      <th></th>\n",
       "      <th>Date</th>\n",
       "      <th>Close</th>\n",
       "    </tr>\n",
       "  </thead>\n",
       "  <tbody>\n",
       "    <tr>\n",
       "      <th>0</th>\n",
       "      <td>2023-07-31</td>\n",
       "      <td>3373.98</td>\n",
       "    </tr>\n",
       "    <tr>\n",
       "      <th>1</th>\n",
       "      <td>2023-07-28</td>\n",
       "      <td>3371.17</td>\n",
       "    </tr>\n",
       "    <tr>\n",
       "      <th>2</th>\n",
       "      <td>2023-07-27</td>\n",
       "      <td>3337.42</td>\n",
       "    </tr>\n",
       "    <tr>\n",
       "      <th>3</th>\n",
       "      <td>2023-07-26</td>\n",
       "      <td>3304.96</td>\n",
       "    </tr>\n",
       "    <tr>\n",
       "      <th>4</th>\n",
       "      <td>2023-07-25</td>\n",
       "      <td>3286.16</td>\n",
       "    </tr>\n",
       "  </tbody>\n",
       "</table>\n",
       "</div>"
      ],
      "text/plain": [
       "        Date    Close\n",
       "0 2023-07-31  3373.98\n",
       "1 2023-07-28  3371.17\n",
       "2 2023-07-27  3337.42\n",
       "3 2023-07-26  3304.96\n",
       "4 2023-07-25  3286.16"
      ]
     },
     "execution_count": 5,
     "metadata": {},
     "output_type": "execute_result"
    }
   ],
   "source": [
    "sti_data = pd.read_csv('data/STI.csv')\n",
    "sti_data = sti_data[['Date', ' Close']]\n",
    "# Date is formatted as mm/dd/yy, convert to datetime\n",
    "sti_data['Date'] = pd.to_datetime(sti_data['Date'], format='%m/%d/%y')\n",
    "\n",
    "data.sti_data = sti_data\n",
    "data.sti_data.head()"
   ]
  },
  {
   "cell_type": "markdown",
   "metadata": {},
   "source": [
    "The ***NIFTY50*** is the flagship index on the National Stock Exchange of India Ltd. (NSE). It includes 50 of India's top companies and is a good proxy for the Indian stock market. We use the Indian stock market as our benchmark for emerging markets because of its size, liquidity, and ease of access for foreign investors.\n",
    "\n",
    "While China's equity market is larger, foreign investors are not allowed to own Chinese stocks and instead invest in them through a special corporate structure called a variable interest entity (VIE). This is legally a grey area and investors have no ownership rights in the underlying companies. As a result, we do not consider China's equity market as a viable benchmark for emerging markets for this analysis, although some investors may choose to take a different view. For more on this topic, see [this article from CNN Business](https://edition.cnn.com/2021/08/08/investing/stocks-week-ahead/index.html).\n",
    "\n",
    "This analysis uses two separate datasets for NIFTY50. This is because the first dataset only contains values from 2000-2020, while the second only contains values from 2007-2023. We need to add the rows from the second dataset to the first to create a dataset with values from 2000-2023."
   ]
  },
  {
   "cell_type": "code",
   "execution_count": 6,
   "metadata": {},
   "outputs": [
    {
     "data": {
      "text/html": [
       "<div>\n",
       "<style scoped>\n",
       "    .dataframe tbody tr th:only-of-type {\n",
       "        vertical-align: middle;\n",
       "    }\n",
       "\n",
       "    .dataframe tbody tr th {\n",
       "        vertical-align: top;\n",
       "    }\n",
       "\n",
       "    .dataframe thead th {\n",
       "        text-align: right;\n",
       "    }\n",
       "</style>\n",
       "<table border=\"1\" class=\"dataframe\">\n",
       "  <thead>\n",
       "    <tr style=\"text-align: right;\">\n",
       "      <th></th>\n",
       "      <th>Date</th>\n",
       "      <th>Close</th>\n",
       "    </tr>\n",
       "  </thead>\n",
       "  <tbody>\n",
       "    <tr>\n",
       "      <th>5863</th>\n",
       "      <td>2023-07-28</td>\n",
       "      <td>19646.050781</td>\n",
       "    </tr>\n",
       "    <tr>\n",
       "      <th>5864</th>\n",
       "      <td>2023-07-31</td>\n",
       "      <td>19753.800781</td>\n",
       "    </tr>\n",
       "    <tr>\n",
       "      <th>5865</th>\n",
       "      <td>2023-08-01</td>\n",
       "      <td>19733.550781</td>\n",
       "    </tr>\n",
       "    <tr>\n",
       "      <th>5866</th>\n",
       "      <td>2023-08-02</td>\n",
       "      <td>19526.550781</td>\n",
       "    </tr>\n",
       "    <tr>\n",
       "      <th>5867</th>\n",
       "      <td>2023-08-03</td>\n",
       "      <td>19381.650391</td>\n",
       "    </tr>\n",
       "  </tbody>\n",
       "</table>\n",
       "</div>"
      ],
      "text/plain": [
       "           Date         Close\n",
       "5863 2023-07-28  19646.050781\n",
       "5864 2023-07-31  19753.800781\n",
       "5865 2023-08-01  19733.550781\n",
       "5866 2023-08-02  19526.550781\n",
       "5867 2023-08-03  19381.650391"
      ]
     },
     "execution_count": 6,
     "metadata": {},
     "output_type": "execute_result"
    }
   ],
   "source": [
    "nifty_data = pd.read_csv('data/NIFTY50.csv')\n",
    "nifty_data = nifty_data[['Date', 'Close']]\n",
    "nifty_data['Date'] = pd.to_datetime(nifty_data['Date'], format='%Y-%m-%d')\n",
    "# Remove post-2021 data because it's not complete\n",
    "nifty_data = nifty_data[nifty_data['Date'] < '2021-01-01']\n",
    "data.nifty_data = nifty_data\n",
    "\n",
    "nifty_data = pd.read_csv('data/^NSEI.csv')\n",
    "# Remove all pre-2021 data\n",
    "nifty_data = nifty_data[nifty_data['Date'] >= '2021-01-01']\n",
    "\n",
    "# Format data to match NIFTY50.csv\n",
    "nifty_data = nifty_data[['Date', 'Adj Close']]\n",
    "nifty_data.columns = ['Date', 'Close']\n",
    "nifty_data['Date'] = pd.to_datetime(nifty_data['Date'], format='%Y-%m-%d')\n",
    "\n",
    "# Combine datasets\n",
    "nifty_data = pd.concat([data.nifty_data, nifty_data])\n",
    "nifty_data = nifty_data.reset_index(drop=True)\n",
    "data.nifty_data = nifty_data\n",
    "data.nifty_data.tail()"
   ]
  },
  {
   "cell_type": "markdown",
   "metadata": {},
   "source": [
    "The ***Gold Spot Prices*** dataset records gold prices (per ounce) from 1978 to 2023. Gold is often used as a hedge against inflation and is considered a safe haven asset due to its scarcity and its value in jewelry and electronics. This low risk profile makes gold a popular choice during times of economic uncertainty.\n",
    "\n",
    "Unlike most of the other datasets, this is provided as a Microsoft Excel workbook with multiple sheets.\n",
    "\n",
    "For maximum precision and granularity, we will use the \"Daily\" sheet, as this contains daily prices. The first 5 rows contain metadata, so we will skip them. The first 2 columns are empty and purely for formatting, so we will skip them as well. The remaining columns contain the Date, and the prices in various currencies. We will only use the USD column for a more consistent comparison with the other datasets."
   ]
  },
  {
   "cell_type": "code",
   "execution_count": 7,
   "metadata": {},
   "outputs": [
    {
     "data": {
      "text/html": [
       "<div>\n",
       "<style scoped>\n",
       "    .dataframe tbody tr th:only-of-type {\n",
       "        vertical-align: middle;\n",
       "    }\n",
       "\n",
       "    .dataframe tbody tr th {\n",
       "        vertical-align: top;\n",
       "    }\n",
       "\n",
       "    .dataframe thead th {\n",
       "        text-align: right;\n",
       "    }\n",
       "</style>\n",
       "<table border=\"1\" class=\"dataframe\">\n",
       "  <thead>\n",
       "    <tr style=\"text-align: right;\">\n",
       "      <th></th>\n",
       "      <th>Date</th>\n",
       "      <th>Close</th>\n",
       "    </tr>\n",
       "  </thead>\n",
       "  <tbody>\n",
       "    <tr>\n",
       "      <th>0</th>\n",
       "      <td>1978-12-29</td>\n",
       "      <td>226.00</td>\n",
       "    </tr>\n",
       "    <tr>\n",
       "      <th>1</th>\n",
       "      <td>1979-01-01</td>\n",
       "      <td>226.00</td>\n",
       "    </tr>\n",
       "    <tr>\n",
       "      <th>2</th>\n",
       "      <td>1979-01-02</td>\n",
       "      <td>226.80</td>\n",
       "    </tr>\n",
       "    <tr>\n",
       "      <th>3</th>\n",
       "      <td>1979-01-03</td>\n",
       "      <td>218.60</td>\n",
       "    </tr>\n",
       "    <tr>\n",
       "      <th>4</th>\n",
       "      <td>1979-01-04</td>\n",
       "      <td>223.15</td>\n",
       "    </tr>\n",
       "  </tbody>\n",
       "</table>\n",
       "</div>"
      ],
      "text/plain": [
       "        Date   Close\n",
       "0 1978-12-29  226.00\n",
       "1 1979-01-01  226.00\n",
       "2 1979-01-02  226.80\n",
       "3 1979-01-03  218.60\n",
       "4 1979-01-04  223.15"
      ]
     },
     "execution_count": 7,
     "metadata": {},
     "output_type": "execute_result"
    }
   ],
   "source": [
    "gold_data = pd.read_excel('data/GoldSpotPrices.xlsx', sheet_name='Daily', skiprows=5, index_col=2)\n",
    "gold_data = gold_data.drop(['Unnamed: 0', 'Unnamed: 1'], axis=1)\n",
    "gold_data = gold_data.iloc[:, 0:1]\n",
    "# The index is already in datetime format, but needs to be converted to a regular column\n",
    "gold_data.reset_index(level=0, inplace=True)\n",
    "gold_data.columns = ['Date', 'Close']\n",
    "\n",
    "data.gold_data = gold_data\n",
    "data.gold_data.head()"
   ]
  },
  {
   "cell_type": "markdown",
   "metadata": {},
   "source": [
    "The ***U.S. Department of the Treasury - Interest Rates Data CSV Archive*** contains data about US Treasury Bill interest rates. T-Bills are a financial instrument that the U.S Government uses to control the amount of money in circulation. Investors buy T-Bills from the government at a discount to the face value (the amount that the government will pay back when the T-Bill matures). The difference between the face value and the purchase price is the interest that the investor earns when the T-Bill matures.\n",
    "\n",
    "T-Bills are considered risk-free investments because the US Government is extremely unlikely to default on its loans. They are sold at different lengths of time to maturity, from 4 to 52 weeks. Longer maturities generally pay higher interest rates, as investors demand more compensation for the risk of holding the investment for a longer period of time. We will hence consider only the 52 week T-Bill for our analysis as it is the longest maturity available.\n",
    "\n",
    "However, there are two columns for 52 week bills - \"52 WEEKS BANK DISCOUNT\" and \"52 WEEKS COUPON EQUIVALENT\". T-Bills only pay out at the end of the investment, and this is what the former represents. The latter is the equivalent interest rate that the investor would earn if the T-Bill paid interest every 6 months. To avoid confusion, we will stick with the \"52 WEEKS BANK DISCOUNT\" column."
   ]
  },
  {
   "cell_type": "code",
   "execution_count": 8,
   "metadata": {},
   "outputs": [
    {
     "data": {
      "text/html": [
       "<div>\n",
       "<style scoped>\n",
       "    .dataframe tbody tr th:only-of-type {\n",
       "        vertical-align: middle;\n",
       "    }\n",
       "\n",
       "    .dataframe tbody tr th {\n",
       "        vertical-align: top;\n",
       "    }\n",
       "\n",
       "    .dataframe thead th {\n",
       "        text-align: right;\n",
       "    }\n",
       "</style>\n",
       "<table border=\"1\" class=\"dataframe\">\n",
       "  <thead>\n",
       "    <tr style=\"text-align: right;\">\n",
       "      <th></th>\n",
       "      <th>Date</th>\n",
       "      <th>52 WEEKS BANK DISCOUNT</th>\n",
       "    </tr>\n",
       "  </thead>\n",
       "  <tbody>\n",
       "    <tr>\n",
       "      <th>0</th>\n",
       "      <td>2021-12-31</td>\n",
       "      <td>0.38</td>\n",
       "    </tr>\n",
       "    <tr>\n",
       "      <th>1</th>\n",
       "      <td>2021-12-30</td>\n",
       "      <td>0.37</td>\n",
       "    </tr>\n",
       "    <tr>\n",
       "      <th>2</th>\n",
       "      <td>2021-12-29</td>\n",
       "      <td>0.38</td>\n",
       "    </tr>\n",
       "    <tr>\n",
       "      <th>3</th>\n",
       "      <td>2021-12-28</td>\n",
       "      <td>0.38</td>\n",
       "    </tr>\n",
       "    <tr>\n",
       "      <th>4</th>\n",
       "      <td>2021-12-27</td>\n",
       "      <td>0.30</td>\n",
       "    </tr>\n",
       "  </tbody>\n",
       "</table>\n",
       "</div>"
      ],
      "text/plain": [
       "        Date  52 WEEKS BANK DISCOUNT\n",
       "0 2021-12-31                    0.38\n",
       "1 2021-12-30                    0.37\n",
       "2 2021-12-29                    0.38\n",
       "3 2021-12-28                    0.38\n",
       "4 2021-12-27                    0.30"
      ]
     },
     "execution_count": 8,
     "metadata": {},
     "output_type": "execute_result"
    }
   ],
   "source": [
    "bond_data = pd.read_csv('data/US-Treasury.csv')\n",
    "bond_data['Date'] = pd.to_datetime(bond_data['Date'], format='%m/%d/%y')\n",
    "bond_data = bond_data[['Date', '52 WEEKS BANK DISCOUNT']]\n",
    "\n",
    "data.bond_data = bond_data\n",
    "data.bond_data.head()"
   ]
  },
  {
   "cell_type": "markdown",
   "metadata": {},
   "source": [
    "The ***Fidelity Growth Company Fund Historical Quotes*** dataset contains the historical stock prices of the Fidelity Growth Company Fund from 2000 to 2022. The Fidelity Growth Company Fund is a professionally managed mutual fund that invests in companies that are expected to grow faster than the rest of the market. Investors invest in mutual funds hoping to earn higher returns with the help of professional fund managers.\n",
    "\n",
    "The dataset is split into 22 CSV files, one for each year."
   ]
  },
  {
   "cell_type": "code",
   "execution_count": 9,
   "metadata": {},
   "outputs": [
    {
     "data": {
      "text/html": [
       "<div>\n",
       "<style scoped>\n",
       "    .dataframe tbody tr th:only-of-type {\n",
       "        vertical-align: middle;\n",
       "    }\n",
       "\n",
       "    .dataframe tbody tr th {\n",
       "        vertical-align: top;\n",
       "    }\n",
       "\n",
       "    .dataframe thead th {\n",
       "        text-align: right;\n",
       "    }\n",
       "</style>\n",
       "<table border=\"1\" class=\"dataframe\">\n",
       "  <thead>\n",
       "    <tr style=\"text-align: right;\">\n",
       "      <th></th>\n",
       "      <th>Date</th>\n",
       "      <th>Close</th>\n",
       "    </tr>\n",
       "  </thead>\n",
       "  <tbody>\n",
       "    <tr>\n",
       "      <th>0</th>\n",
       "      <td>2000-12-29</td>\n",
       "      <td>7.14</td>\n",
       "    </tr>\n",
       "    <tr>\n",
       "      <th>1</th>\n",
       "      <td>2000-12-28</td>\n",
       "      <td>7.30</td>\n",
       "    </tr>\n",
       "    <tr>\n",
       "      <th>2</th>\n",
       "      <td>2000-12-27</td>\n",
       "      <td>7.22</td>\n",
       "    </tr>\n",
       "    <tr>\n",
       "      <th>3</th>\n",
       "      <td>2000-12-26</td>\n",
       "      <td>7.08</td>\n",
       "    </tr>\n",
       "    <tr>\n",
       "      <th>4</th>\n",
       "      <td>2000-12-22</td>\n",
       "      <td>7.04</td>\n",
       "    </tr>\n",
       "  </tbody>\n",
       "</table>\n",
       "</div>"
      ],
      "text/plain": [
       "        Date  Close\n",
       "0 2000-12-29   7.14\n",
       "1 2000-12-28   7.30\n",
       "2 2000-12-27   7.22\n",
       "3 2000-12-26   7.08\n",
       "4 2000-12-22   7.04"
      ]
     },
     "execution_count": 9,
     "metadata": {},
     "output_type": "execute_result"
    }
   ],
   "source": [
    "mf_files = []\n",
    "for i in range (0, 23):\n",
    "    # Files are named for the last 2 digits of the year, make sure to add 0 to single digit years\n",
    "    mf_files.append(pd.read_csv('data/Fidelity/' + str(i).zfill(2) + '.csv'))\n",
    "mf_data = pd.concat(mf_files, ignore_index=True)\n",
    "mf_data = mf_data[['Date', 'Close']]\n",
    "mf_data['Date'] = pd.to_datetime(mf_data['Date'], format='%m/%d/%Y')\n",
    "\n",
    "data.mf_data = mf_data\n",
    "data.mf_data.head()"
   ]
  },
  {
   "cell_type": "markdown",
   "metadata": {},
   "source": [
    "The ***Singapore Department of Statistics - Consumer Price Index (CPI), 2019 As Base Year*** dataset contains the monthly consumer price index (CPI) from 1961 to 2023. CPI is a measure of inflation, and is calculated by measuring the change in price of a fixed basket of goods and services, including food, power, and rent.\n",
    "\n",
    "If an investor holds cash without earning interest and the CPI is rising, the investor's purchasing power is decreasing, which can be considered as a loss of money.\n",
    "\n",
    "The first 10 rows of the dataset contain metadata and will be skipped. This dataset is arranged such that the dates are in columns and the CPI values are in rows. For consistency, the dataset will be transposed so that the dates are in rows and the CPI values are in columns. We will also consider only the \"All Items\" category, which is the overall CPI."
   ]
  },
  {
   "cell_type": "code",
   "execution_count": 10,
   "metadata": {},
   "outputs": [
    {
     "data": {
      "text/html": [
       "<div>\n",
       "<style scoped>\n",
       "    .dataframe tbody tr th:only-of-type {\n",
       "        vertical-align: middle;\n",
       "    }\n",
       "\n",
       "    .dataframe tbody tr th {\n",
       "        vertical-align: top;\n",
       "    }\n",
       "\n",
       "    .dataframe thead th {\n",
       "        text-align: right;\n",
       "    }\n",
       "</style>\n",
       "<table border=\"1\" class=\"dataframe\">\n",
       "  <thead>\n",
       "    <tr style=\"text-align: right;\">\n",
       "      <th>Data Series</th>\n",
       "      <th>All Items</th>\n",
       "    </tr>\n",
       "  </thead>\n",
       "  <tbody>\n",
       "    <tr>\n",
       "      <th>2023-06-01</th>\n",
       "      <td>113.576</td>\n",
       "    </tr>\n",
       "    <tr>\n",
       "      <th>2023-05-01</th>\n",
       "      <td>113.034</td>\n",
       "    </tr>\n",
       "    <tr>\n",
       "      <th>2023-04-01</th>\n",
       "      <td>112.669</td>\n",
       "    </tr>\n",
       "    <tr>\n",
       "      <th>2023-03-01</th>\n",
       "      <td>112.583</td>\n",
       "    </tr>\n",
       "    <tr>\n",
       "      <th>2023-02-01</th>\n",
       "      <td>112.019</td>\n",
       "    </tr>\n",
       "  </tbody>\n",
       "</table>\n",
       "</div>"
      ],
      "text/plain": [
       "Data Series All Items\n",
       "2023-06-01    113.576\n",
       "2023-05-01    113.034\n",
       "2023-04-01    112.669\n",
       "2023-03-01    112.583\n",
       "2023-02-01    112.019"
      ]
     },
     "execution_count": 10,
     "metadata": {},
     "output_type": "execute_result"
    }
   ],
   "source": [
    "sg_cpi_data = pd.read_csv('data/SG-CPI.csv', skiprows=10)\n",
    "sg_cpi_data = sg_cpi_data.T # Transpose\n",
    "sg_cpi_data = sg_cpi_data.iloc[:, :1] # Keep only the first column (All Items)\n",
    "sg_cpi_data.columns = sg_cpi_data.iloc[0] # Set column names to the first row\n",
    "sg_cpi_data = sg_cpi_data.iloc[1:, :] # Remove the first row\n",
    "sg_cpi_data.index = sg_cpi_data.index.str.strip()\n",
    "sg_cpi_data.index = pd.to_datetime(sg_cpi_data.index, format='%Y %b')\n",
    "\n",
    "data.sg_cpi_data = sg_cpi_data\n",
    "data.sg_cpi_data.head()"
   ]
  },
  {
   "cell_type": "markdown",
   "metadata": {},
   "source": [
    "The ***U.S. Bureau of Labor Statistics - Consumer Price Index for All Urban Consumers*** dataset contains U.S. CPI data from 1913 to 2023. Since many of our datasets are in USD, it is important to also track how the USD is changing in value over time.\n",
    "\n",
    "This dataset is provided as a Microsoft Excel workbook, where the first 11 rows are metadata and will be skipped."
   ]
  },
  {
   "cell_type": "code",
   "execution_count": 11,
   "metadata": {},
   "outputs": [
    {
     "name": "stderr",
     "output_type": "stream",
     "text": [
      "/Users/karandeepsingh/miniforge3/envs/pds/lib/python3.10/site-packages/openpyxl/styles/stylesheet.py:226: UserWarning: Workbook contains no default style, apply openpyxl's default\n",
      "  warn(\"Workbook contains no default style, apply openpyxl's default\")\n"
     ]
    },
    {
     "data": {
      "text/html": [
       "<div>\n",
       "<style scoped>\n",
       "    .dataframe tbody tr th:only-of-type {\n",
       "        vertical-align: middle;\n",
       "    }\n",
       "\n",
       "    .dataframe tbody tr th {\n",
       "        vertical-align: top;\n",
       "    }\n",
       "\n",
       "    .dataframe thead th {\n",
       "        text-align: right;\n",
       "    }\n",
       "</style>\n",
       "<table border=\"1\" class=\"dataframe\">\n",
       "  <thead>\n",
       "    <tr style=\"text-align: right;\">\n",
       "      <th></th>\n",
       "      <th>CPI</th>\n",
       "      <th>Date</th>\n",
       "    </tr>\n",
       "  </thead>\n",
       "  <tbody>\n",
       "    <tr>\n",
       "      <th>0</th>\n",
       "      <td>9.8</td>\n",
       "      <td>1913-01-01</td>\n",
       "    </tr>\n",
       "    <tr>\n",
       "      <th>1</th>\n",
       "      <td>10.0</td>\n",
       "      <td>1914-01-01</td>\n",
       "    </tr>\n",
       "    <tr>\n",
       "      <th>2</th>\n",
       "      <td>10.1</td>\n",
       "      <td>1915-01-01</td>\n",
       "    </tr>\n",
       "    <tr>\n",
       "      <th>3</th>\n",
       "      <td>10.4</td>\n",
       "      <td>1916-01-01</td>\n",
       "    </tr>\n",
       "    <tr>\n",
       "      <th>4</th>\n",
       "      <td>11.7</td>\n",
       "      <td>1917-01-01</td>\n",
       "    </tr>\n",
       "  </tbody>\n",
       "</table>\n",
       "</div>"
      ],
      "text/plain": [
       "    CPI       Date\n",
       "0   9.8 1913-01-01\n",
       "1  10.0 1914-01-01\n",
       "2  10.1 1915-01-01\n",
       "3  10.4 1916-01-01\n",
       "4  11.7 1917-01-01"
      ]
     },
     "execution_count": 11,
     "metadata": {},
     "output_type": "execute_result"
    }
   ],
   "source": [
    "us_cpi_data = pd.read_excel('data/USA-CPI.xlsx', skiprows=11, usecols=range(13))\n",
    "us_cpi_data = us_cpi_data.melt(id_vars=['Year'], var_name='Month', value_name='CPI')\n",
    "us_cpi_data['Date'] = us_cpi_data['Year'].astype(str) + '-' + us_cpi_data['Month']\n",
    "us_cpi_data['Date'] = pd.to_datetime(us_cpi_data['Date'], format='%Y-%b')\n",
    "us_cpi_data = us_cpi_data.drop(columns=['Year', 'Month'])\n",
    "\n",
    "data.us_cpi_data = us_cpi_data\n",
    "data.us_cpi_data.head()"
   ]
  },
  {
   "cell_type": "markdown",
   "metadata": {},
   "source": [
    "### 1. What benefits does investing offer, compared to holding cash?"
   ]
  },
  {
   "cell_type": "code",
   "execution_count": 12,
   "metadata": {},
   "outputs": [
    {
     "data": {
      "image/png": "[encoded data removed]",
      "text/plain": [
       "<Figure size 640x480 with 1 Axes>"
      ]
     },
     "metadata": {},
     "output_type": "display_data"
    }
   ],
   "source": [
    "# Assume the investor started investing in 2000, and contributed 1000 USD every month.\n",
    "\n",
    "total_spy_shares = [0]\n",
    "total_spy_value = [0]\n",
    "\n",
    "total_sti_shares = [0]\n",
    "total_sti_value = [0]\n",
    "\n",
    "total_nifty_shares = [0]\n",
    "total_nifty_value = [0]\n",
    "\n",
    "total_gold = [0]\n",
    "total_gold_value = [0]\n",
    "\n",
    "for year in range(2000, 2023):\n",
    "    for month in range(1, 13):\n",
    "        # SPY\n",
    "        num_spy_shares = 1000 / data.spy_data.loc[(data.spy_data['Date'].dt.year == year) & (data.spy_data['Date'].dt.month == month)]['Adj Close'].values[0]\n",
    "        total_spy_shares.append(total_spy_shares[-1] + num_spy_shares)\n",
    "        price = data.spy_data.loc[(data.spy_data['Date'].dt.year == year) & (data.spy_data['Date'].dt.month == month)]['Adj Close'].values[0]\n",
    "        value = total_spy_shares[-1] * price\n",
    "        total_spy_value.append(value)\n",
    "        # STI\n",
    "        num_sti_shares = 1000 / data.sti_data.loc[(data.sti_data['Date'].dt.year == year) & (data.sti_data['Date'].dt.month == month)][' Close'].values[0]\n",
    "        total_sti_shares.append(total_sti_shares[-1] + num_sti_shares)\n",
    "        price = data.sti_data.loc[(data.sti_data['Date'].dt.year == year) & (data.sti_data['Date'].dt.month == month)][' Close'].values[0]\n",
    "        value = total_sti_shares[-1] * price\n",
    "        total_sti_value.append(value)\n",
    "        # NIFTY\n",
    "        num_nifty_shares = 1000 / data.nifty_data.loc[(data.nifty_data['Date'].dt.year == year) & (data.nifty_data['Date'].dt.month == month)]['Close'].values[0]\n",
    "        total_nifty_shares.append(total_nifty_shares[-1] + num_nifty_shares)\n",
    "        price = data.nifty_data.loc[(data.nifty_data['Date'].dt.year == year) & (data.nifty_data['Date'].dt.month == month)]['Close'].values[0]\n",
    "        value = total_nifty_shares[-1] * price\n",
    "        total_nifty_value.append(value)\n",
    "        # Gold\n",
    "        num_gold = 1000 / data.gold_data.loc[(data.gold_data['Date'].dt.year == year) & (data.gold_data['Date'].dt.month == month)]['Close'].values[0]\n",
    "        total_gold.append(total_gold[-1] + num_gold)\n",
    "        price = data.gold_data.loc[(data.gold_data['Date'].dt.year == year) & (data.gold_data['Date'].dt.month == month)]['Close'].values[0]\n",
    "        value = total_gold[-1] * price\n",
    "        total_gold_value.append(value)\n",
    "\n",
    "spy_data_2000_2022 = data.spy_data.loc[(data.spy_data['Date'].dt.year >= 2000) & (data.spy_data['Date'].dt.year <= 2022)]\n",
    "spy_data_2000_2022 = data.spy_data.groupby([spy_data_2000_2022['Date'].dt.year, spy_data_2000_2022['Date'].dt.month]).first()\n",
    "\n",
    "sti_data_2000_2022 = data.sti_data.loc[(data.sti_data['Date'].dt.year >= 2000) & (data.sti_data['Date'].dt.year <= 2022)]\n",
    "sti_data_2000_2022 = data.sti_data.groupby([sti_data_2000_2022['Date'].dt.year, sti_data_2000_2022['Date'].dt.month]).first()\n",
    "\n",
    "nifty_data_2000_2022 = data.nifty_data.loc[(data.nifty_data['Date'].dt.year >= 2000) & (data.nifty_data['Date'].dt.year <= 2022)]\n",
    "nifty_data_2000_2022 = data.nifty_data.groupby([nifty_data_2000_2022['Date'].dt.year, nifty_data_2000_2022['Date'].dt.month]).first()\n",
    "\n",
    "gold_data_2000_2022 = data.gold_data.loc[(data.gold_data['Date'].dt.year >= 2000) & (data.gold_data['Date'].dt.year <= 2022)]\n",
    "gold_data_2000_2022 = data.gold_data.groupby([gold_data_2000_2022['Date'].dt.year, gold_data_2000_2022['Date'].dt.month]).first()\n",
    "\n",
    "plt.rcParams['axes.facecolor'] = 'F0F0F0'\n",
    "\n",
    "sns.lineplot(x=spy_data_2000_2022['Date'], y=total_spy_value[1:], color=\"blue\", label='SPY')\n",
    "sns.lineplot(x=sti_data_2000_2022['Date'], y=total_sti_value[1:], color=\"red\", label='STI')\n",
    "sns.lineplot(x=nifty_data_2000_2022['Date'], y=total_nifty_value[1:], color=\"green\", label='NIFTY')\n",
    "sns.lineplot(x=gold_data_2000_2022['Date'], y=total_gold_value[1:], color=\"gold\", label='Gold')\n",
    "\n",
    "plt.ylim(0, 1700000)\n",
    "plt.xlim(pd.Timestamp('2000-01-01'), pd.Timestamp('2022-12-31'))\n",
    "plt.xticks(rotation=25)\n",
    "plt.title('Growth of $1000 Monthly Investment (2000-2022)')\n",
    "plt.gca().yaxis.set_major_formatter(FuncFormatter(lambda x, _: '${:,.0f}'.format(x/1000) + 'k')) # Format y-axis ticks in 100k increments\n",
    "plt.show()"
   ]
  },
  {
   "cell_type": "markdown",
   "metadata": {},
   "source": [
    "### Important Considerations\n",
    "- In our analysis, we assumed that the investor paid $0 in fees and commissions, and that they had the ability to purchase fractional shares. However, zero commission trading and fractional shares are both relatively new developments.\n"
   ]
  }
 ],
 "metadata": {
  "kernelspec": {
   "display_name": "pds",
   "language": "python",
   "name": "python3"
  },
  "language_info": {
   "codemirror_mode": {
    "name": "ipython",
    "version": 3
   },
   "file_extension": ".py",
   "mimetype": "text/x-python",
   "name": "python",
   "nbconvert_exporter": "python",
   "pygments_lexer": "ipython3",
   "version": "3.10.12"
  },
  "orig_nbformat": 4
 },
 "nbformat": 4,
 "nbformat_minor": 2
}
