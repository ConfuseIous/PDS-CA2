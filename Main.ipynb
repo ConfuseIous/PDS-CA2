{
 "cells": [
  {
   "cell_type": "markdown",
   "metadata": {},
   "source": [
    "## Comparing Long Term Investment Strategies\n",
    "### Karandeep Singh"
   ]
  },
  {
   "cell_type": "markdown",
   "metadata": {},
   "source": [
    "Investments are critical to long term financial security. Through the power of compound interest, investors can grow their wealth over time. However, there are many different investment strategies that can be used to grow wealth.\n",
    "\n",
    "In this analysis, we will compare the benefits of investing in:\n",
    "- Cryptocurrency\n",
    "- Equities in the Largest Economy (US)\n",
    "- Local Equities (Singapore)\n",
    "- Emerging Market Equities (India)\n",
    "- Safe Assets (Gold)\n",
    "- Low Risk Assets (US Treasury Bonds)\n",
    "- Professional Management (Mutual Funds)\n",
    "\n",
    "**The goal of this analysis is to determine which investment strategies are the most effective in growing wealth over time.**\n",
    "\n",
    "Insights I hope to gain from this analysis include:\n",
    "\n",
    "1. What benefits does investing offer, compared to holding cash?\n",
    "2. Does compounding interest really make a difference?\n",
    "3. Which investment vehicles are the most effective in growing wealth over time?\n",
    "4. Which investment vehicles offer the best risk-adjusted returns?\n",
    "5. Which investment vehicles are the most volatile?\n",
    "6. Are developing countries likely to outperform developed countries in the long run?\n",
    "\n",
    "This analysis makes use of the following datasets:\n",
    "- [SPDR S&P 500 ETF Trust (SPY) Historical Prices](https://finance.yahoo.com/quote/SPY/history?period1=1659308442&period2=1690844442&interval=1mo&filter=history&frequency=1mo&includeAdjustedClose=true)\n",
    "- [Bitcoin USD (BTC-USD) Historical Prices](https://finance.yahoo.com/quote/BTC-USD/history?period1=1659322815&period2=1690858815&interval=1mo&filter=history&frequency=1mo&includeAdjustedClose=true)\n",
    "- [FTSE Straits Times Index STI Historical Prices](https://www.wsj.com/market-data/quotes/index/SG/STI/historical-prices)\n",
    "- ADD NIFTY HERE\n",
    "- [Gold Spot Prices](https://www.gold.org/goldhub/data/gold-prices)\n",
    "- [U.S. Department of the Treasury - Interest Rates Data CSV Archive](https://home.treasury.gov/interest-rates-data-csv-archive)\n",
    "- [Fidelity Growth Company Fund Historical Quotes](https://www.marketwatch.com/investing/fund/fdgrx/download-data)"
   ]
  },
  {
   "cell_type": "code",
   "execution_count": null,
   "metadata": {
    "vscode": {
     "languageId": "plaintext"
    }
   },
   "outputs": [],
   "source": []
  }
 ],
 "metadata": {
  "language_info": {
   "name": "python"
  },
  "orig_nbformat": 4
 },
 "nbformat": 4,
 "nbformat_minor": 2
}
