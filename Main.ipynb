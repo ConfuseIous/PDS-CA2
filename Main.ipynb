{
 "cells": [
  {
   "cell_type": "markdown",
   "metadata": {},
   "source": [
    "## Comparing Long Term Investment Strategies\n",
    "### Karandeep Singh"
   ]
  },
  {
   "cell_type": "markdown",
   "metadata": {},
   "source": [
    "Investments are critical to long term financial security. Through the power of compound interest, investors can grow their wealth over time. However, there are many different investment strategies that can be used to grow wealth.\n",
    "\n",
    "In this analysis, we will compare the benefits of investing in:\n",
    "- Cryptocurrency\n",
    "- Equities in the Largest Economy (US)\n",
    "- Local Equities (Singapore)\n",
    "- Emerging Market Equities (India)\n",
    "- Safe Assets (Gold)\n",
    "- Low Risk Assets (US Treasury Bonds)\n",
    "- Professional Management (Mutual Funds)\n",
    "\n",
    "**The goal of this analysis is to determine which investment strategies are the most effective in growing wealth over time.**\n",
    "\n",
    "Insights I hope to gain from this analysis include:\n",
    "\n",
    "1. What benefits does investing offer, compared to holding cash?\n",
    "2. Which investment vehicles are the most effective in growing wealth over time?\n",
    "3. Which investment vehicles offer the best risk-adjusted returns?\n",
    "4. Which investment vehicles are the most volatile?\n",
    "5. Are developing countries likely to outperform developed countries in the long run?\n",
    "6. Does GDP growth translate to stock market growth?\n",
    "\n",
    "This analysis makes use of the following datasets:\n",
    "- [SPDR S&P 500 ETF Trust (SPY) Historical Prices](https://finance.yahoo.com/quote/SPY/history?period1=1659308442&period2=1690844442&interval=1mo&filter=history&frequency=1mo&includeAdjustedClose=true)\n",
    "- [Bitcoin USD (BTC-USD) Historical Prices](https://finance.yahoo.com/quote/BTC-USD/history?period1=1659322815&period2=1690858815&interval=1mo&filter=history&frequency=1mo&includeAdjustedClose=true)\n",
    "- [FTSE Straits Times Index STI Historical Prices](https://www.wsj.com/market-data/quotes/index/SG/STI/historical-prices)\n",
    "- ADD NIFTY HERE\n",
    "- [Gold Spot Prices](https://www.gold.org/goldhub/data/gold-prices)\n",
    "- [U.S. Department of the Treasury - Interest Rates Data CSV Archive](https://home.treasury.gov/interest-rates-data-csv-archive)\n",
    "- [Fidelity Growth Company Fund Historical Quotes](https://www.marketwatch.com/investing/fund/fdgrx/download-data)\n",
    "- [Singapore Department of Statistics - Consumer Price Index (CPI), 2019 As Base Year](https://tablebuilder.singstat.gov.sg/table/TS/M212881)\n",
    "- [U.S. Department of Labor - Consumer Price Index (CPI), 1982-1984 As Base Year](https://www.bls.gov/cpi/data.htm)"
   ]
  },
  {
   "cell_type": "code",
   "execution_count": 1,
   "metadata": {},
   "outputs": [],
   "source": [
    "# Importing required libraries\n",
    "import pandas as pd\n",
    "import numpy as np\n",
    "import seaborn as sns"
   ]
  },
  {
   "cell_type": "markdown",
   "metadata": {},
   "source": [
    "### Loading and Preprocessing the Datasets"
   ]
  },
  {
   "cell_type": "markdown",
   "metadata": {},
   "source": [
    "The ***SPDR S&P 500 ETF Trust (SPY) Historical Prices*** dataset contains the historical prices of the SPY ETF. This is a fund that tracks the performance of the 500 largest companies in the USA. It is the most commonly used proxy for the entire US stock market.\n",
    "\n",
    "We can discard all columns apart from the date and the adjusted close, which is the price of the ETF at the end of each trading day and adjusted for dividends and stock splits. A stock split is a process where a single share is split into multiple shares, which reduces the price of each share and can cause our data to be incorrect unless we adjust for it."
   ]
  },
  {
   "cell_type": "code",
   "execution_count": 2,
   "metadata": {},
   "outputs": [
    {
     "data": {
      "text/html": [
       "<div>\n",
       "<style scoped>\n",
       "    .dataframe tbody tr th:only-of-type {\n",
       "        vertical-align: middle;\n",
       "    }\n",
       "\n",
       "    .dataframe tbody tr th {\n",
       "        vertical-align: top;\n",
       "    }\n",
       "\n",
       "    .dataframe thead th {\n",
       "        text-align: right;\n",
       "    }\n",
       "</style>\n",
       "<table border=\"1\" class=\"dataframe\">\n",
       "  <thead>\n",
       "    <tr style=\"text-align: right;\">\n",
       "      <th></th>\n",
       "      <th>Date</th>\n",
       "      <th>Adj Close</th>\n",
       "    </tr>\n",
       "  </thead>\n",
       "  <tbody>\n",
       "    <tr>\n",
       "      <th>0</th>\n",
       "      <td>1993-01-29</td>\n",
       "      <td>25.029373</td>\n",
       "    </tr>\n",
       "    <tr>\n",
       "      <th>1</th>\n",
       "      <td>1993-02-01</td>\n",
       "      <td>25.207396</td>\n",
       "    </tr>\n",
       "    <tr>\n",
       "      <th>2</th>\n",
       "      <td>1993-02-02</td>\n",
       "      <td>25.260807</td>\n",
       "    </tr>\n",
       "    <tr>\n",
       "      <th>3</th>\n",
       "      <td>1993-02-03</td>\n",
       "      <td>25.527821</td>\n",
       "    </tr>\n",
       "    <tr>\n",
       "      <th>4</th>\n",
       "      <td>1993-02-04</td>\n",
       "      <td>25.634634</td>\n",
       "    </tr>\n",
       "  </tbody>\n",
       "</table>\n",
       "</div>"
      ],
      "text/plain": [
       "        Date  Adj Close\n",
       "0 1993-01-29  25.029373\n",
       "1 1993-02-01  25.207396\n",
       "2 1993-02-02  25.260807\n",
       "3 1993-02-03  25.527821\n",
       "4 1993-02-04  25.634634"
      ]
     },
     "execution_count": 2,
     "metadata": {},
     "output_type": "execute_result"
    }
   ],
   "source": [
    "spy_data = pd.read_csv('data/SPY.csv')\n",
    "spy_data = spy_data[['Date', 'Adj Close']]\n",
    "# Date is formatted as yyyy-mm-dd, convert to datetime\n",
    "spy_data['Date'] = pd.to_datetime(spy_data['Date'])\n",
    "spy_data.head()"
   ]
  },
  {
   "cell_type": "markdown",
   "metadata": {},
   "source": [
    "The ***Bitcoin USD (BTC-USD) Historical Data*** dataset contains historical data of Bitcoin prices from 2014 to 2021. Bitcoin is one of the oldest and most popular cryptocurrencies in the world, making it a good choice for this analysis. Unlike most other cryptocurrencies and cryptocurrency brokers, Bitcoin does not appear to be a scam, despite the fact that its only real value is in purchasing drugs, weapons, politicians, and other deplorable things on the dark web.\n",
    "\n",
    "As with the SPY dataset, we're only concerned with the date and adjusted close columns."
   ]
  },
  {
   "cell_type": "code",
   "execution_count": 3,
   "metadata": {},
   "outputs": [
    {
     "data": {
      "text/html": [
       "<div>\n",
       "<style scoped>\n",
       "    .dataframe tbody tr th:only-of-type {\n",
       "        vertical-align: middle;\n",
       "    }\n",
       "\n",
       "    .dataframe tbody tr th {\n",
       "        vertical-align: top;\n",
       "    }\n",
       "\n",
       "    .dataframe thead th {\n",
       "        text-align: right;\n",
       "    }\n",
       "</style>\n",
       "<table border=\"1\" class=\"dataframe\">\n",
       "  <thead>\n",
       "    <tr style=\"text-align: right;\">\n",
       "      <th></th>\n",
       "      <th>Date</th>\n",
       "      <th>Adj Close</th>\n",
       "    </tr>\n",
       "  </thead>\n",
       "  <tbody>\n",
       "    <tr>\n",
       "      <th>0</th>\n",
       "      <td>2014-09-17</td>\n",
       "      <td>457.334015</td>\n",
       "    </tr>\n",
       "    <tr>\n",
       "      <th>1</th>\n",
       "      <td>2014-09-18</td>\n",
       "      <td>424.440002</td>\n",
       "    </tr>\n",
       "    <tr>\n",
       "      <th>2</th>\n",
       "      <td>2014-09-19</td>\n",
       "      <td>394.795990</td>\n",
       "    </tr>\n",
       "    <tr>\n",
       "      <th>3</th>\n",
       "      <td>2014-09-20</td>\n",
       "      <td>408.903992</td>\n",
       "    </tr>\n",
       "    <tr>\n",
       "      <th>4</th>\n",
       "      <td>2014-09-21</td>\n",
       "      <td>398.821014</td>\n",
       "    </tr>\n",
       "  </tbody>\n",
       "</table>\n",
       "</div>"
      ],
      "text/plain": [
       "        Date   Adj Close\n",
       "0 2014-09-17  457.334015\n",
       "1 2014-09-18  424.440002\n",
       "2 2014-09-19  394.795990\n",
       "3 2014-09-20  408.903992\n",
       "4 2014-09-21  398.821014"
      ]
     },
     "execution_count": 3,
     "metadata": {},
     "output_type": "execute_result"
    }
   ],
   "source": [
    "btc_data = pd.read_csv('data/BTC-USD.csv')\n",
    "btc_data = btc_data[['Date', 'Adj Close']]\n",
    "# Date is formatted as yyyy-mm-dd, convert to datetime\n",
    "btc_data['Date'] = pd.to_datetime(btc_data['Date'])\n",
    "btc_data.head()"
   ]
  },
  {
   "cell_type": "markdown",
   "metadata": {},
   "source": [
    "The ***FTSE Straits Times Index STI Historical Prices*** dataset contains the historical prices of the Straits Times Index (STI) from 2000 to 2019. Like SPY, STI is an index that can be used as a proxy for the Singapore stock market. It tracks the 30 largest companies listed on the Singapore Exchange (SGX).\n",
    "\n",
    "STI has never had a stock split, so the price data does not need to be adjusted."
   ]
  },
  {
   "cell_type": "code",
   "execution_count": 4,
   "metadata": {},
   "outputs": [
    {
     "data": {
      "text/html": [
       "<div>\n",
       "<style scoped>\n",
       "    .dataframe tbody tr th:only-of-type {\n",
       "        vertical-align: middle;\n",
       "    }\n",
       "\n",
       "    .dataframe tbody tr th {\n",
       "        vertical-align: top;\n",
       "    }\n",
       "\n",
       "    .dataframe thead th {\n",
       "        text-align: right;\n",
       "    }\n",
       "</style>\n",
       "<table border=\"1\" class=\"dataframe\">\n",
       "  <thead>\n",
       "    <tr style=\"text-align: right;\">\n",
       "      <th></th>\n",
       "      <th>Date</th>\n",
       "      <th>Close</th>\n",
       "    </tr>\n",
       "  </thead>\n",
       "  <tbody>\n",
       "    <tr>\n",
       "      <th>0</th>\n",
       "      <td>2023-07-31</td>\n",
       "      <td>3373.98</td>\n",
       "    </tr>\n",
       "    <tr>\n",
       "      <th>1</th>\n",
       "      <td>2023-07-28</td>\n",
       "      <td>3371.17</td>\n",
       "    </tr>\n",
       "    <tr>\n",
       "      <th>2</th>\n",
       "      <td>2023-07-27</td>\n",
       "      <td>3337.42</td>\n",
       "    </tr>\n",
       "    <tr>\n",
       "      <th>3</th>\n",
       "      <td>2023-07-26</td>\n",
       "      <td>3304.96</td>\n",
       "    </tr>\n",
       "    <tr>\n",
       "      <th>4</th>\n",
       "      <td>2023-07-25</td>\n",
       "      <td>3286.16</td>\n",
       "    </tr>\n",
       "  </tbody>\n",
       "</table>\n",
       "</div>"
      ],
      "text/plain": [
       "        Date    Close\n",
       "0 2023-07-31  3373.98\n",
       "1 2023-07-28  3371.17\n",
       "2 2023-07-27  3337.42\n",
       "3 2023-07-26  3304.96\n",
       "4 2023-07-25  3286.16"
      ]
     },
     "execution_count": 4,
     "metadata": {},
     "output_type": "execute_result"
    }
   ],
   "source": [
    "sti_data = pd.read_csv('data/STI.csv')\n",
    "sti_data = sti_data[['Date', ' Close']]\n",
    "# Date is formatted as mm/dd/yy, convert to datetime\n",
    "sti_data['Date'] = pd.to_datetime(sti_data['Date'], format='%m/%d/%y')\n",
    "sti_data.head()"
   ]
  },
  {
   "cell_type": "markdown",
   "metadata": {},
   "source": [
    "The ***Gold Spot Prices*** dataset records gold prices (per ounce) from 1978 to 2023. Unlike most of the other datasets, it is provided as a Microsoft Excel workbook with multiple sheets.\n",
    "\n",
    "For maximum precision and granularity, we will use the \"Daily\" sheet, as this contains daily prices. The first 5 rows contain metadata, so we will skip them. The first 2 columns are empty and purely for formatting, so we will skip them as well. The remaining columns contain the Date, and the prices in various currencies. We will only use the USD column for a more consistent comparison with the other datasets."
   ]
  },
  {
   "cell_type": "code",
   "execution_count": 5,
   "metadata": {},
   "outputs": [
    {
     "data": {
      "text/html": [
       "<div>\n",
       "<style scoped>\n",
       "    .dataframe tbody tr th:only-of-type {\n",
       "        vertical-align: middle;\n",
       "    }\n",
       "\n",
       "    .dataframe tbody tr th {\n",
       "        vertical-align: top;\n",
       "    }\n",
       "\n",
       "    .dataframe thead th {\n",
       "        text-align: right;\n",
       "    }\n",
       "</style>\n",
       "<table border=\"1\" class=\"dataframe\">\n",
       "  <thead>\n",
       "    <tr style=\"text-align: right;\">\n",
       "      <th></th>\n",
       "      <th>Unnamed: 0</th>\n",
       "      <th>USD</th>\n",
       "    </tr>\n",
       "  </thead>\n",
       "  <tbody>\n",
       "    <tr>\n",
       "      <th>1978-12-29</th>\n",
       "      <td>NaN</td>\n",
       "      <td>226.00</td>\n",
       "    </tr>\n",
       "    <tr>\n",
       "      <th>1979-01-01</th>\n",
       "      <td>NaN</td>\n",
       "      <td>226.00</td>\n",
       "    </tr>\n",
       "    <tr>\n",
       "      <th>1979-01-02</th>\n",
       "      <td>NaN</td>\n",
       "      <td>226.80</td>\n",
       "    </tr>\n",
       "    <tr>\n",
       "      <th>1979-01-03</th>\n",
       "      <td>NaN</td>\n",
       "      <td>218.60</td>\n",
       "    </tr>\n",
       "    <tr>\n",
       "      <th>1979-01-04</th>\n",
       "      <td>NaN</td>\n",
       "      <td>223.15</td>\n",
       "    </tr>\n",
       "  </tbody>\n",
       "</table>\n",
       "</div>"
      ],
      "text/plain": [
       "            Unnamed: 0     USD\n",
       "1978-12-29         NaN  226.00\n",
       "1979-01-01         NaN  226.00\n",
       "1979-01-02         NaN  226.80\n",
       "1979-01-03         NaN  218.60\n",
       "1979-01-04         NaN  223.15"
      ]
     },
     "execution_count": 5,
     "metadata": {},
     "output_type": "execute_result"
    }
   ],
   "source": [
    "gold_xlsx_data = pd.read_excel('data/GoldSpotPrices.xlsx', sheet_name='Daily', skiprows=5, index_col=2)\n",
    "gold_xlsx_data = gold_xlsx_data.iloc[:, [0, 2]]\n",
    "gold_xlsx_data.head()"
   ]
  }
 ],
 "metadata": {
  "kernelspec": {
   "display_name": "pds",
   "language": "python",
   "name": "python3"
  },
  "language_info": {
   "codemirror_mode": {
    "name": "ipython",
    "version": 3
   },
   "file_extension": ".py",
   "mimetype": "text/x-python",
   "name": "python",
   "nbconvert_exporter": "python",
   "pygments_lexer": "ipython3",
   "version": "3.10.12"
  },
  "orig_nbformat": 4
 },
 "nbformat": 4,
 "nbformat_minor": 2
}
